{
 "cells": [
  {
   "cell_type": "markdown",
   "metadata": {},
   "source": [
    "# Übung 2.1 - Clustering (Beispiellösung)\n",
    "\n",
    "Environment für dieses Notebook: `ads-ml-light` (*requirements-py3.11-ads-ml-light.txt*)."
   ]
  },
  {
   "cell_type": "markdown",
   "metadata": {},
   "source": [
    "## Daten einlesen"
   ]
  },
  {
   "cell_type": "code",
   "execution_count": 1,
   "metadata": {},
   "outputs": [],
   "source": [
    "from repml.datasets.trees_fra import read_trees_fra\n",
    "\n",
    "data = read_trees_fra()"
   ]
  },
  {
   "cell_type": "markdown",
   "metadata": {},
   "source": [
    "## Target Variable"
   ]
  },
  {
   "cell_type": "code",
   "execution_count": 2,
   "metadata": {},
   "outputs": [],
   "source": [
    "tree_counts = data[\"gattung\"].value_counts()\n",
    "rare_trees = tree_counts[tree_counts < 100].index.to_list()"
   ]
  },
  {
   "cell_type": "code",
   "execution_count": 3,
   "metadata": {},
   "outputs": [
    {
     "name": "stdout",
     "output_type": "stream",
     "text": [
      "Es gibt 88 seltene Gattungen.\n",
      "['Cedrus', 'Sambucus', 'Zelkova', 'Gymnocladus', 'Cercis', 'Sequoiadendron', 'Buxus', 'Tetradium', 'Cercidiphyllum', 'Cryptomeria']\n"
     ]
    }
   ],
   "source": [
    "print(\"Es gibt\", len(rare_trees), \"seltene Gattungen.\")\n",
    "print(rare_trees[:10])"
   ]
  },
  {
   "cell_type": "code",
   "execution_count": 4,
   "metadata": {},
   "outputs": [],
   "source": [
    "data[\"gattung\"] = data[\"gattung\"].astype(\"object\")\n",
    "data.loc[data.query(f\"gattung == @rare_trees\").index, \"gattung\"] = \"rare\"\n",
    "data[\"gattung\"] = data[\"gattung\"].astype(\"category\")"
   ]
  },
  {
   "cell_type": "markdown",
   "metadata": {},
   "source": [
    "## Trainings- und Testdaten"
   ]
  },
  {
   "cell_type": "code",
   "execution_count": 5,
   "metadata": {},
   "outputs": [],
   "source": [
    "from sklearn.model_selection import train_test_split\n",
    "\n",
    "train_data, test_data = train_test_split(\n",
    "    data, test_size=0.2, random_state=42, stratify=data[\"gattung\"]\n",
    ")"
   ]
  },
  {
   "cell_type": "code",
   "execution_count": 6,
   "metadata": {},
   "outputs": [],
   "source": [
    "num_features = [\"kr_durchm\", \"baumhoehe\", \"st_durchm\", \"pflanzjahr\"]\n",
    "cat_features = [\"gebiet\", \"baum_statu\"]\n",
    "\n",
    "y = [\"gattung\"]\n",
    "X = [*num_features, *cat_features]"
   ]
  },
  {
   "cell_type": "code",
   "execution_count": 7,
   "metadata": {},
   "outputs": [],
   "source": [
    "import numpy as np\n",
    "from sklearn.base import BaseEstimator, TransformerMixin\n",
    "\n",
    "\n",
    "class CombinedFeatureAdder(BaseEstimator, TransformerMixin):\n",
    "    def __init__(self):\n",
    "        self.feature_names_in_ = None\n",
    "\n",
    "    def fit(self, X, y=None):\n",
    "        return self\n",
    "\n",
    "    def transform(self, X):\n",
    "        df = X.copy()\n",
    "        self.feature_names_in_ = df.columns.tolist()\n",
    "        # volume as a sphere\n",
    "        # volume = (4 / 3) * np.pi * pow(df[\"kr_durchm\"] / 2, 3)\n",
    "        # volume as a cylinder\n",
    "        volume = np.pi * pow(df[\"kr_durchm\"] / 2, 2) * df[\"baumhoehe\"]\n",
    "\n",
    "        return np.c_[X, volume]\n",
    "\n",
    "    def get_feature_names_out(self, input_features=None):\n",
    "        if input_features is None:\n",
    "            input_features = self.feature_names_in_\n",
    "        return np.array([*input_features, \"cfa_volume\"])"
   ]
  },
  {
   "cell_type": "code",
   "execution_count": 8,
   "metadata": {},
   "outputs": [],
   "source": [
    "from sklearn.preprocessing import StandardScaler\n",
    "from sklearn.pipeline import Pipeline\n",
    "\n",
    "num_step = Pipeline(\n",
    "    steps=[\n",
    "        (\"attr_add\", CombinedFeatureAdder()),\n",
    "        (\"std_scaler\", StandardScaler()),\n",
    "    ]\n",
    ")"
   ]
  },
  {
   "cell_type": "code",
   "execution_count": 9,
   "metadata": {},
   "outputs": [],
   "source": [
    "from sklearn.compose import ColumnTransformer\n",
    "from sklearn.preprocessing import OneHotEncoder\n",
    "\n",
    "prep_steps = ColumnTransformer(\n",
    "    transformers=[\n",
    "        (\"num\", num_step, num_features),\n",
    "        (\"ohe\", OneHotEncoder(sparse_output=False, handle_unknown=\"ignore\"), cat_features),\n",
    "    ],\n",
    "    remainder=\"drop\",\n",
    ")"
   ]
  },
  {
   "cell_type": "code",
   "execution_count": 10,
   "metadata": {},
   "outputs": [
    {
     "data": {
      "text/plain": [
       "array([[-0.5195075 , -0.44539314, -0.12519284, ...,  0.        ,\n",
       "         0.        ,  1.        ],\n",
       "       [ 0.71836031, -0.6082158 , -0.12519284, ...,  0.        ,\n",
       "         0.        ,  1.        ],\n",
       "       [-1.26222819, -1.4223291 , -1.20473142, ...,  0.        ,\n",
       "         0.        ,  1.        ],\n",
       "       ...,\n",
       "       [ 0.71836031,  0.53154283, -0.03882975, ...,  0.        ,\n",
       "         0.        ,  1.        ],\n",
       "       [-0.5195075 , -1.09668378, -0.81609753, ...,  0.        ,\n",
       "         0.        ,  1.        ],\n",
       "       [-0.27193394, -0.93386112, -0.3842821 , ...,  0.        ,\n",
       "         0.        ,  1.        ]])"
      ]
     },
     "execution_count": 10,
     "metadata": {},
     "output_type": "execute_result"
    }
   ],
   "source": [
    "prep_steps.fit_transform(X=train_data[X], y=train_data[y])"
   ]
  },
  {
   "cell_type": "markdown",
   "metadata": {},
   "source": [
    "## Clustering Step\n",
    "Nach dem One-Hot-Encoding fügen wir das Clustering in einem separaten Colum Transformer hinzu."
   ]
  },
  {
   "cell_type": "code",
   "execution_count": 11,
   "metadata": {},
   "outputs": [],
   "source": [
    "from sklearn.cluster import KMeans\n",
    "\n",
    "n_clusters = 7\n",
    "cluster_step = ColumnTransformer(\n",
    "    [(\"kmeans\", KMeans(n_clusters=n_clusters, n_init=\"auto\", random_state=42), [1, 2])],\n",
    "    remainder=\"passthrough\",\n",
    ")"
   ]
  },
  {
   "cell_type": "markdown",
   "metadata": {},
   "source": [
    "Da wir Clustering zur Reduktion der Dimension einbringen möchten, sind wir an dem Output von `KMeans.predict` und nicht von `KMeans.transform` interessiert. Das lösen wir über den ClusterFeature Custom Transformer, welcher mit np.argmin() die Clusterzugehörigkeit identifiziert. Zuerst ein Beispiel zu np.argmin():"
   ]
  },
  {
   "cell_type": "code",
   "execution_count": 12,
   "metadata": {},
   "outputs": [
    {
     "data": {
      "text/html": [
       "<div>\n",
       "<style scoped>\n",
       "    .dataframe tbody tr th:only-of-type {\n",
       "        vertical-align: middle;\n",
       "    }\n",
       "\n",
       "    .dataframe tbody tr th {\n",
       "        vertical-align: top;\n",
       "    }\n",
       "\n",
       "    .dataframe thead th {\n",
       "        text-align: right;\n",
       "    }\n",
       "</style>\n",
       "<table border=\"1\" class=\"dataframe\">\n",
       "  <thead>\n",
       "    <tr style=\"text-align: right;\">\n",
       "      <th></th>\n",
       "      <th>Cluster0</th>\n",
       "      <th>Cluster1</th>\n",
       "      <th>Cluster2</th>\n",
       "      <th>Cluster3</th>\n",
       "      <th>Cluster4</th>\n",
       "    </tr>\n",
       "  </thead>\n",
       "  <tbody>\n",
       "    <tr>\n",
       "      <th>0</th>\n",
       "      <td>0.682352</td>\n",
       "      <td>0.053821</td>\n",
       "      <td>0.220360</td>\n",
       "      <td>0.184372</td>\n",
       "      <td>0.175906</td>\n",
       "    </tr>\n",
       "    <tr>\n",
       "      <th>1</th>\n",
       "      <td>0.812095</td>\n",
       "      <td>0.923345</td>\n",
       "      <td>0.276574</td>\n",
       "      <td>0.819755</td>\n",
       "      <td>0.889893</td>\n",
       "    </tr>\n",
       "    <tr>\n",
       "      <th>2</th>\n",
       "      <td>0.512970</td>\n",
       "      <td>0.244965</td>\n",
       "      <td>0.824242</td>\n",
       "      <td>0.213763</td>\n",
       "      <td>0.741467</td>\n",
       "    </tr>\n",
       "    <tr>\n",
       "      <th>3</th>\n",
       "      <td>0.629940</td>\n",
       "      <td>0.927407</td>\n",
       "      <td>0.231908</td>\n",
       "      <td>0.799125</td>\n",
       "      <td>0.518165</td>\n",
       "    </tr>\n",
       "    <tr>\n",
       "      <th>4</th>\n",
       "      <td>0.231556</td>\n",
       "      <td>0.165904</td>\n",
       "      <td>0.497789</td>\n",
       "      <td>0.582725</td>\n",
       "      <td>0.184338</td>\n",
       "    </tr>\n",
       "    <tr>\n",
       "      <th>5</th>\n",
       "      <td>0.014895</td>\n",
       "      <td>0.471133</td>\n",
       "      <td>0.728243</td>\n",
       "      <td>0.918600</td>\n",
       "      <td>0.625534</td>\n",
       "    </tr>\n",
       "    <tr>\n",
       "      <th>6</th>\n",
       "      <td>0.917123</td>\n",
       "      <td>0.864690</td>\n",
       "      <td>0.218143</td>\n",
       "      <td>0.866127</td>\n",
       "      <td>0.730752</td>\n",
       "    </tr>\n",
       "    <tr>\n",
       "      <th>7</th>\n",
       "      <td>0.277865</td>\n",
       "      <td>0.797044</td>\n",
       "      <td>0.865222</td>\n",
       "      <td>0.299438</td>\n",
       "      <td>0.527042</td>\n",
       "    </tr>\n",
       "    <tr>\n",
       "      <th>8</th>\n",
       "      <td>0.071487</td>\n",
       "      <td>0.583238</td>\n",
       "      <td>0.237906</td>\n",
       "      <td>0.764964</td>\n",
       "      <td>0.173632</td>\n",
       "    </tr>\n",
       "    <tr>\n",
       "      <th>9</th>\n",
       "      <td>0.312742</td>\n",
       "      <td>0.014474</td>\n",
       "      <td>0.032552</td>\n",
       "      <td>0.496702</td>\n",
       "      <td>0.468313</td>\n",
       "    </tr>\n",
       "  </tbody>\n",
       "</table>\n",
       "</div>"
      ],
      "text/plain": [
       "   Cluster0  Cluster1  Cluster2  Cluster3  Cluster4\n",
       "0  0.682352  0.053821  0.220360  0.184372  0.175906\n",
       "1  0.812095  0.923345  0.276574  0.819755  0.889893\n",
       "2  0.512970  0.244965  0.824242  0.213763  0.741467\n",
       "3  0.629940  0.927407  0.231908  0.799125  0.518165\n",
       "4  0.231556  0.165904  0.497789  0.582725  0.184338\n",
       "5  0.014895  0.471133  0.728243  0.918600  0.625534\n",
       "6  0.917123  0.864690  0.218143  0.866127  0.730752\n",
       "7  0.277865  0.797044  0.865222  0.299438  0.527042\n",
       "8  0.071487  0.583238  0.237906  0.764964  0.173632\n",
       "9  0.312742  0.014474  0.032552  0.496702  0.468313"
      ]
     },
     "execution_count": 12,
     "metadata": {},
     "output_type": "execute_result"
    }
   ],
   "source": [
    "import pandas as pd\n",
    "\n",
    "rng = np.random.default_rng(123)\n",
    "df_random = rng.random((10, 5))\n",
    "df_random = pd.DataFrame(\n",
    "    df_random, columns=[\"Cluster0\", \"Cluster1\", \"Cluster2\", \"Cluster3\", \"Cluster4\"]\n",
    ")\n",
    "df_random"
   ]
  },
  {
   "cell_type": "code",
   "execution_count": 13,
   "metadata": {},
   "outputs": [
    {
     "data": {
      "text/plain": [
       "array([1, 2, 3, 2, 1, 0, 2, 0, 0, 1])"
      ]
     },
     "execution_count": 13,
     "metadata": {},
     "output_type": "execute_result"
    }
   ],
   "source": [
    "np.array(df_random).argmin(axis=1)"
   ]
  },
  {
   "cell_type": "code",
   "execution_count": 14,
   "metadata": {},
   "outputs": [],
   "source": [
    "class ClusterFeature(BaseEstimator, TransformerMixin):\n",
    "    def __init__(self, n_clusters):\n",
    "        self.n_clusters = n_clusters\n",
    "        self.feature_names_in_ = None\n",
    "\n",
    "    def fit(self, X, y=None):\n",
    "        return self\n",
    "\n",
    "    def transform(self, X):\n",
    "        cluster_label = X[:, : self.n_clusters - 1].argmin(axis=1)\n",
    "        return np.c_[cluster_label, X[:, self.n_clusters :]]\n",
    "\n",
    "    def get_feature_names_out(self, input_features=None):\n",
    "        if input_features is None:\n",
    "            input_features = self.feature_names_in_\n",
    "        return np.array([\"cluster_label\", *input_features[self.n_clusters :]])"
   ]
  },
  {
   "cell_type": "code",
   "execution_count": 15,
   "metadata": {},
   "outputs": [
    {
     "data": {
      "text/plain": [
       "array([[ 3.        , -0.5195075 ,  0.21165808, ...,  0.        ,\n",
       "         0.        ,  1.        ],\n",
       "       [ 3.        ,  0.71836031, -0.37705167, ...,  0.        ,\n",
       "         0.        ,  1.        ],\n",
       "       [ 1.        , -1.26222819,  0.83961514, ...,  0.        ,\n",
       "         0.        ,  1.        ],\n",
       "       ...,\n",
       "       [ 0.        ,  0.71836031,  0.01542149, ...,  0.        ,\n",
       "         0.        ,  1.        ],\n",
       "       [ 1.        , -0.5195075 ,  0.91810978, ...,  0.        ,\n",
       "         0.        ,  1.        ],\n",
       "       [ 1.        , -0.27193394,  0.40789466, ...,  0.        ,\n",
       "         0.        ,  1.        ]])"
      ]
     },
     "execution_count": 15,
     "metadata": {},
     "output_type": "execute_result"
    }
   ],
   "source": [
    "pipeline_check_2 = Pipeline(\n",
    "    [\n",
    "        (\"preprocessing\", prep_steps),\n",
    "        (\"cluster\", cluster_step),\n",
    "        (\"c_feat\", ClusterFeature(n_clusters=7)),\n",
    "    ]\n",
    ")\n",
    "\n",
    "pipeline_check_2.fit_transform(X=train_data[X], y=train_data[y])"
   ]
  },
  {
   "cell_type": "markdown",
   "metadata": {},
   "source": [
    "Um die Information mit dem Decision Tree nutzbar zu machen, führen wir auf dieses Ergebnis nochmals ein One-Hot-Encoding durch."
   ]
  },
  {
   "cell_type": "code",
   "execution_count": 16,
   "metadata": {},
   "outputs": [],
   "source": [
    "cluster_encoding = ColumnTransformer(\n",
    "    transformers=[\n",
    "        (\"cohe\", OneHotEncoder(sparse_output=False), [0]),\n",
    "    ],\n",
    "    remainder=\"passthrough\",\n",
    ")"
   ]
  },
  {
   "cell_type": "code",
   "execution_count": 17,
   "metadata": {},
   "outputs": [],
   "source": [
    "from sklearn.tree import DecisionTreeClassifier\n",
    "\n",
    "pipeline = Pipeline(\n",
    "    [\n",
    "        (\"preprocessing\", prep_steps),\n",
    "        (\"cluster\", cluster_step),\n",
    "        (\"c_feat\", ClusterFeature(n_clusters=7)),\n",
    "        (\"c_encoding\", cluster_encoding),\n",
    "        (\"model\", DecisionTreeClassifier(random_state=42)),\n",
    "    ]\n",
    ")"
   ]
  },
  {
   "cell_type": "code",
   "execution_count": 18,
   "metadata": {},
   "outputs": [
    {
     "data": {
      "text/html": [
       "<style>#sk-container-id-1 {color: black;}#sk-container-id-1 pre{padding: 0;}#sk-container-id-1 div.sk-toggleable {background-color: white;}#sk-container-id-1 label.sk-toggleable__label {cursor: pointer;display: block;width: 100%;margin-bottom: 0;padding: 0.3em;box-sizing: border-box;text-align: center;}#sk-container-id-1 label.sk-toggleable__label-arrow:before {content: \"▸\";float: left;margin-right: 0.25em;color: #696969;}#sk-container-id-1 label.sk-toggleable__label-arrow:hover:before {color: black;}#sk-container-id-1 div.sk-estimator:hover label.sk-toggleable__label-arrow:before {color: black;}#sk-container-id-1 div.sk-toggleable__content {max-height: 0;max-width: 0;overflow: hidden;text-align: left;background-color: #f0f8ff;}#sk-container-id-1 div.sk-toggleable__content pre {margin: 0.2em;color: black;border-radius: 0.25em;background-color: #f0f8ff;}#sk-container-id-1 input.sk-toggleable__control:checked~div.sk-toggleable__content {max-height: 200px;max-width: 100%;overflow: auto;}#sk-container-id-1 input.sk-toggleable__control:checked~label.sk-toggleable__label-arrow:before {content: \"▾\";}#sk-container-id-1 div.sk-estimator input.sk-toggleable__control:checked~label.sk-toggleable__label {background-color: #d4ebff;}#sk-container-id-1 div.sk-label input.sk-toggleable__control:checked~label.sk-toggleable__label {background-color: #d4ebff;}#sk-container-id-1 input.sk-hidden--visually {border: 0;clip: rect(1px 1px 1px 1px);clip: rect(1px, 1px, 1px, 1px);height: 1px;margin: -1px;overflow: hidden;padding: 0;position: absolute;width: 1px;}#sk-container-id-1 div.sk-estimator {font-family: monospace;background-color: #f0f8ff;border: 1px dotted black;border-radius: 0.25em;box-sizing: border-box;margin-bottom: 0.5em;}#sk-container-id-1 div.sk-estimator:hover {background-color: #d4ebff;}#sk-container-id-1 div.sk-parallel-item::after {content: \"\";width: 100%;border-bottom: 1px solid gray;flex-grow: 1;}#sk-container-id-1 div.sk-label:hover label.sk-toggleable__label {background-color: #d4ebff;}#sk-container-id-1 div.sk-serial::before {content: \"\";position: absolute;border-left: 1px solid gray;box-sizing: border-box;top: 0;bottom: 0;left: 50%;z-index: 0;}#sk-container-id-1 div.sk-serial {display: flex;flex-direction: column;align-items: center;background-color: white;padding-right: 0.2em;padding-left: 0.2em;position: relative;}#sk-container-id-1 div.sk-item {position: relative;z-index: 1;}#sk-container-id-1 div.sk-parallel {display: flex;align-items: stretch;justify-content: center;background-color: white;position: relative;}#sk-container-id-1 div.sk-item::before, #sk-container-id-1 div.sk-parallel-item::before {content: \"\";position: absolute;border-left: 1px solid gray;box-sizing: border-box;top: 0;bottom: 0;left: 50%;z-index: -1;}#sk-container-id-1 div.sk-parallel-item {display: flex;flex-direction: column;z-index: 1;position: relative;background-color: white;}#sk-container-id-1 div.sk-parallel-item:first-child::after {align-self: flex-end;width: 50%;}#sk-container-id-1 div.sk-parallel-item:last-child::after {align-self: flex-start;width: 50%;}#sk-container-id-1 div.sk-parallel-item:only-child::after {width: 0;}#sk-container-id-1 div.sk-dashed-wrapped {border: 1px dashed gray;margin: 0 0.4em 0.5em 0.4em;box-sizing: border-box;padding-bottom: 0.4em;background-color: white;}#sk-container-id-1 div.sk-label label {font-family: monospace;font-weight: bold;display: inline-block;line-height: 1.2em;}#sk-container-id-1 div.sk-label-container {text-align: center;}#sk-container-id-1 div.sk-container {/* jupyter's `normalize.less` sets `[hidden] { display: none; }` but bootstrap.min.css set `[hidden] { display: none !important; }` so we also need the `!important` here to be able to override the default hidden behavior on the sphinx rendered scikit-learn.org. See: https://github.com/scikit-learn/scikit-learn/issues/21755 */display: inline-block !important;position: relative;}#sk-container-id-1 div.sk-text-repr-fallback {display: none;}</style><div id=\"sk-container-id-1\" class=\"sk-top-container\"><div class=\"sk-text-repr-fallback\"><pre>Pipeline(steps=[(&#x27;preprocessing&#x27;,\n",
       "                 ColumnTransformer(transformers=[(&#x27;num&#x27;,\n",
       "                                                  Pipeline(steps=[(&#x27;attr_add&#x27;,\n",
       "                                                                   CombinedFeatureAdder()),\n",
       "                                                                  (&#x27;std_scaler&#x27;,\n",
       "                                                                   StandardScaler())]),\n",
       "                                                  [&#x27;kr_durchm&#x27;, &#x27;baumhoehe&#x27;,\n",
       "                                                   &#x27;st_durchm&#x27;, &#x27;pflanzjahr&#x27;]),\n",
       "                                                 (&#x27;ohe&#x27;,\n",
       "                                                  OneHotEncoder(handle_unknown=&#x27;ignore&#x27;,\n",
       "                                                                sparse_output=False),\n",
       "                                                  [&#x27;gebiet&#x27;, &#x27;baum_statu&#x27;])])),\n",
       "                (&#x27;cluster&#x27;,\n",
       "                 ColumnTransformer(remainder=&#x27;passthrough&#x27;,\n",
       "                                   transformers=[(&#x27;kmeans&#x27;,\n",
       "                                                  KMeans(n_clusters=7,\n",
       "                                                         n_init=&#x27;auto&#x27;,\n",
       "                                                         random_state=42),\n",
       "                                                  [1, 2])])),\n",
       "                (&#x27;c_feat&#x27;, ClusterFeature(n_clusters=7)),\n",
       "                (&#x27;c_encoding&#x27;,\n",
       "                 ColumnTransformer(remainder=&#x27;passthrough&#x27;,\n",
       "                                   transformers=[(&#x27;cohe&#x27;,\n",
       "                                                  OneHotEncoder(sparse_output=False),\n",
       "                                                  [0])])),\n",
       "                (&#x27;model&#x27;, DecisionTreeClassifier(random_state=42))])</pre><b>In a Jupyter environment, please rerun this cell to show the HTML representation or trust the notebook. <br />On GitHub, the HTML representation is unable to render, please try loading this page with nbviewer.org.</b></div><div class=\"sk-container\" hidden><div class=\"sk-item sk-dashed-wrapped\"><div class=\"sk-label-container\"><div class=\"sk-label sk-toggleable\"><input class=\"sk-toggleable__control sk-hidden--visually\" id=\"sk-estimator-id-1\" type=\"checkbox\" ><label for=\"sk-estimator-id-1\" class=\"sk-toggleable__label sk-toggleable__label-arrow\">Pipeline</label><div class=\"sk-toggleable__content\"><pre>Pipeline(steps=[(&#x27;preprocessing&#x27;,\n",
       "                 ColumnTransformer(transformers=[(&#x27;num&#x27;,\n",
       "                                                  Pipeline(steps=[(&#x27;attr_add&#x27;,\n",
       "                                                                   CombinedFeatureAdder()),\n",
       "                                                                  (&#x27;std_scaler&#x27;,\n",
       "                                                                   StandardScaler())]),\n",
       "                                                  [&#x27;kr_durchm&#x27;, &#x27;baumhoehe&#x27;,\n",
       "                                                   &#x27;st_durchm&#x27;, &#x27;pflanzjahr&#x27;]),\n",
       "                                                 (&#x27;ohe&#x27;,\n",
       "                                                  OneHotEncoder(handle_unknown=&#x27;ignore&#x27;,\n",
       "                                                                sparse_output=False),\n",
       "                                                  [&#x27;gebiet&#x27;, &#x27;baum_statu&#x27;])])),\n",
       "                (&#x27;cluster&#x27;,\n",
       "                 ColumnTransformer(remainder=&#x27;passthrough&#x27;,\n",
       "                                   transformers=[(&#x27;kmeans&#x27;,\n",
       "                                                  KMeans(n_clusters=7,\n",
       "                                                         n_init=&#x27;auto&#x27;,\n",
       "                                                         random_state=42),\n",
       "                                                  [1, 2])])),\n",
       "                (&#x27;c_feat&#x27;, ClusterFeature(n_clusters=7)),\n",
       "                (&#x27;c_encoding&#x27;,\n",
       "                 ColumnTransformer(remainder=&#x27;passthrough&#x27;,\n",
       "                                   transformers=[(&#x27;cohe&#x27;,\n",
       "                                                  OneHotEncoder(sparse_output=False),\n",
       "                                                  [0])])),\n",
       "                (&#x27;model&#x27;, DecisionTreeClassifier(random_state=42))])</pre></div></div></div><div class=\"sk-serial\"><div class=\"sk-item sk-dashed-wrapped\"><div class=\"sk-label-container\"><div class=\"sk-label sk-toggleable\"><input class=\"sk-toggleable__control sk-hidden--visually\" id=\"sk-estimator-id-2\" type=\"checkbox\" ><label for=\"sk-estimator-id-2\" class=\"sk-toggleable__label sk-toggleable__label-arrow\">preprocessing: ColumnTransformer</label><div class=\"sk-toggleable__content\"><pre>ColumnTransformer(transformers=[(&#x27;num&#x27;,\n",
       "                                 Pipeline(steps=[(&#x27;attr_add&#x27;,\n",
       "                                                  CombinedFeatureAdder()),\n",
       "                                                 (&#x27;std_scaler&#x27;,\n",
       "                                                  StandardScaler())]),\n",
       "                                 [&#x27;kr_durchm&#x27;, &#x27;baumhoehe&#x27;, &#x27;st_durchm&#x27;,\n",
       "                                  &#x27;pflanzjahr&#x27;]),\n",
       "                                (&#x27;ohe&#x27;,\n",
       "                                 OneHotEncoder(handle_unknown=&#x27;ignore&#x27;,\n",
       "                                               sparse_output=False),\n",
       "                                 [&#x27;gebiet&#x27;, &#x27;baum_statu&#x27;])])</pre></div></div></div><div class=\"sk-parallel\"><div class=\"sk-parallel-item\"><div class=\"sk-item\"><div class=\"sk-label-container\"><div class=\"sk-label sk-toggleable\"><input class=\"sk-toggleable__control sk-hidden--visually\" id=\"sk-estimator-id-3\" type=\"checkbox\" ><label for=\"sk-estimator-id-3\" class=\"sk-toggleable__label sk-toggleable__label-arrow\">num</label><div class=\"sk-toggleable__content\"><pre>[&#x27;kr_durchm&#x27;, &#x27;baumhoehe&#x27;, &#x27;st_durchm&#x27;, &#x27;pflanzjahr&#x27;]</pre></div></div></div><div class=\"sk-serial\"><div class=\"sk-item\"><div class=\"sk-serial\"><div class=\"sk-item\"><div class=\"sk-estimator sk-toggleable\"><input class=\"sk-toggleable__control sk-hidden--visually\" id=\"sk-estimator-id-4\" type=\"checkbox\" ><label for=\"sk-estimator-id-4\" class=\"sk-toggleable__label sk-toggleable__label-arrow\">CombinedFeatureAdder</label><div class=\"sk-toggleable__content\"><pre>CombinedFeatureAdder()</pre></div></div></div><div class=\"sk-item\"><div class=\"sk-estimator sk-toggleable\"><input class=\"sk-toggleable__control sk-hidden--visually\" id=\"sk-estimator-id-5\" type=\"checkbox\" ><label for=\"sk-estimator-id-5\" class=\"sk-toggleable__label sk-toggleable__label-arrow\">StandardScaler</label><div class=\"sk-toggleable__content\"><pre>StandardScaler()</pre></div></div></div></div></div></div></div></div><div class=\"sk-parallel-item\"><div class=\"sk-item\"><div class=\"sk-label-container\"><div class=\"sk-label sk-toggleable\"><input class=\"sk-toggleable__control sk-hidden--visually\" id=\"sk-estimator-id-6\" type=\"checkbox\" ><label for=\"sk-estimator-id-6\" class=\"sk-toggleable__label sk-toggleable__label-arrow\">ohe</label><div class=\"sk-toggleable__content\"><pre>[&#x27;gebiet&#x27;, &#x27;baum_statu&#x27;]</pre></div></div></div><div class=\"sk-serial\"><div class=\"sk-item\"><div class=\"sk-estimator sk-toggleable\"><input class=\"sk-toggleable__control sk-hidden--visually\" id=\"sk-estimator-id-7\" type=\"checkbox\" ><label for=\"sk-estimator-id-7\" class=\"sk-toggleable__label sk-toggleable__label-arrow\">OneHotEncoder</label><div class=\"sk-toggleable__content\"><pre>OneHotEncoder(handle_unknown=&#x27;ignore&#x27;, sparse_output=False)</pre></div></div></div></div></div></div></div></div><div class=\"sk-item sk-dashed-wrapped\"><div class=\"sk-label-container\"><div class=\"sk-label sk-toggleable\"><input class=\"sk-toggleable__control sk-hidden--visually\" id=\"sk-estimator-id-8\" type=\"checkbox\" ><label for=\"sk-estimator-id-8\" class=\"sk-toggleable__label sk-toggleable__label-arrow\">cluster: ColumnTransformer</label><div class=\"sk-toggleable__content\"><pre>ColumnTransformer(remainder=&#x27;passthrough&#x27;,\n",
       "                  transformers=[(&#x27;kmeans&#x27;,\n",
       "                                 KMeans(n_clusters=7, n_init=&#x27;auto&#x27;,\n",
       "                                        random_state=42),\n",
       "                                 [1, 2])])</pre></div></div></div><div class=\"sk-parallel\"><div class=\"sk-parallel-item\"><div class=\"sk-item\"><div class=\"sk-label-container\"><div class=\"sk-label sk-toggleable\"><input class=\"sk-toggleable__control sk-hidden--visually\" id=\"sk-estimator-id-9\" type=\"checkbox\" ><label for=\"sk-estimator-id-9\" class=\"sk-toggleable__label sk-toggleable__label-arrow\">kmeans</label><div class=\"sk-toggleable__content\"><pre>[1, 2]</pre></div></div></div><div class=\"sk-serial\"><div class=\"sk-item\"><div class=\"sk-estimator sk-toggleable\"><input class=\"sk-toggleable__control sk-hidden--visually\" id=\"sk-estimator-id-10\" type=\"checkbox\" ><label for=\"sk-estimator-id-10\" class=\"sk-toggleable__label sk-toggleable__label-arrow\">KMeans</label><div class=\"sk-toggleable__content\"><pre>KMeans(n_clusters=7, n_init=&#x27;auto&#x27;, random_state=42)</pre></div></div></div></div></div></div><div class=\"sk-parallel-item\"><div class=\"sk-item\"><div class=\"sk-label-container\"><div class=\"sk-label sk-toggleable\"><input class=\"sk-toggleable__control sk-hidden--visually\" id=\"sk-estimator-id-11\" type=\"checkbox\" ><label for=\"sk-estimator-id-11\" class=\"sk-toggleable__label sk-toggleable__label-arrow\">remainder</label><div class=\"sk-toggleable__content\"><pre>[0, 3, 4, 5, 6, 7, 8, 9, 10, 11, 12, 13, 14, 15, 16, 17, 18, 19, 20, 21, 22, 23, 24, 25, 26, 27, 28, 29, 30, 31, 32, 33, 34, 35, 36, 37, 38, 39, 40, 41, 42, 43, 44, 45, 46, 47, 48, 49, 50, 51, 52, 53, 54, 55, 56, 57, 58, 59, 60, 61, 62, 63, 64, 65, 66, 67, 68, 69, 70, 71, 72, 73, 74, 75, 76, 77, 78, 79, 80, 81, 82, 83, 84, 85, 86, 87, 88, 89, 90, 91, 92, 93, 94, 95, 96, 97, 98, 99, 100, 101, 102, 103, 104, 105, 106, 107, 108, 109, 110, 111, 112, 113, 114, 115, 116, 117, 118, 119, 120, 121, 122]</pre></div></div></div><div class=\"sk-serial\"><div class=\"sk-item\"><div class=\"sk-estimator sk-toggleable\"><input class=\"sk-toggleable__control sk-hidden--visually\" id=\"sk-estimator-id-12\" type=\"checkbox\" ><label for=\"sk-estimator-id-12\" class=\"sk-toggleable__label sk-toggleable__label-arrow\">passthrough</label><div class=\"sk-toggleable__content\"><pre>passthrough</pre></div></div></div></div></div></div></div></div><div class=\"sk-item\"><div class=\"sk-estimator sk-toggleable\"><input class=\"sk-toggleable__control sk-hidden--visually\" id=\"sk-estimator-id-13\" type=\"checkbox\" ><label for=\"sk-estimator-id-13\" class=\"sk-toggleable__label sk-toggleable__label-arrow\">ClusterFeature</label><div class=\"sk-toggleable__content\"><pre>ClusterFeature(n_clusters=7)</pre></div></div></div><div class=\"sk-item sk-dashed-wrapped\"><div class=\"sk-label-container\"><div class=\"sk-label sk-toggleable\"><input class=\"sk-toggleable__control sk-hidden--visually\" id=\"sk-estimator-id-14\" type=\"checkbox\" ><label for=\"sk-estimator-id-14\" class=\"sk-toggleable__label sk-toggleable__label-arrow\">c_encoding: ColumnTransformer</label><div class=\"sk-toggleable__content\"><pre>ColumnTransformer(remainder=&#x27;passthrough&#x27;,\n",
       "                  transformers=[(&#x27;cohe&#x27;, OneHotEncoder(sparse_output=False),\n",
       "                                 [0])])</pre></div></div></div><div class=\"sk-parallel\"><div class=\"sk-parallel-item\"><div class=\"sk-item\"><div class=\"sk-label-container\"><div class=\"sk-label sk-toggleable\"><input class=\"sk-toggleable__control sk-hidden--visually\" id=\"sk-estimator-id-15\" type=\"checkbox\" ><label for=\"sk-estimator-id-15\" class=\"sk-toggleable__label sk-toggleable__label-arrow\">cohe</label><div class=\"sk-toggleable__content\"><pre>[0]</pre></div></div></div><div class=\"sk-serial\"><div class=\"sk-item\"><div class=\"sk-estimator sk-toggleable\"><input class=\"sk-toggleable__control sk-hidden--visually\" id=\"sk-estimator-id-16\" type=\"checkbox\" ><label for=\"sk-estimator-id-16\" class=\"sk-toggleable__label sk-toggleable__label-arrow\">OneHotEncoder</label><div class=\"sk-toggleable__content\"><pre>OneHotEncoder(sparse_output=False)</pre></div></div></div></div></div></div><div class=\"sk-parallel-item\"><div class=\"sk-item\"><div class=\"sk-label-container\"><div class=\"sk-label sk-toggleable\"><input class=\"sk-toggleable__control sk-hidden--visually\" id=\"sk-estimator-id-17\" type=\"checkbox\" ><label for=\"sk-estimator-id-17\" class=\"sk-toggleable__label sk-toggleable__label-arrow\">remainder</label><div class=\"sk-toggleable__content\"><pre>[1, 2, 3, 4, 5, 6, 7, 8, 9, 10, 11, 12, 13, 14, 15, 16, 17, 18, 19, 20, 21, 22, 23, 24, 25, 26, 27, 28, 29, 30, 31, 32, 33, 34, 35, 36, 37, 38, 39, 40, 41, 42, 43, 44, 45, 46, 47, 48, 49, 50, 51, 52, 53, 54, 55, 56, 57, 58, 59, 60, 61, 62, 63, 64, 65, 66, 67, 68, 69, 70, 71, 72, 73, 74, 75, 76, 77, 78, 79, 80, 81, 82, 83, 84, 85, 86, 87, 88, 89, 90, 91, 92, 93, 94, 95, 96, 97, 98, 99, 100, 101, 102, 103, 104, 105, 106, 107, 108, 109, 110, 111, 112, 113, 114, 115, 116, 117, 118, 119, 120, 121]</pre></div></div></div><div class=\"sk-serial\"><div class=\"sk-item\"><div class=\"sk-estimator sk-toggleable\"><input class=\"sk-toggleable__control sk-hidden--visually\" id=\"sk-estimator-id-18\" type=\"checkbox\" ><label for=\"sk-estimator-id-18\" class=\"sk-toggleable__label sk-toggleable__label-arrow\">passthrough</label><div class=\"sk-toggleable__content\"><pre>passthrough</pre></div></div></div></div></div></div></div></div><div class=\"sk-item\"><div class=\"sk-estimator sk-toggleable\"><input class=\"sk-toggleable__control sk-hidden--visually\" id=\"sk-estimator-id-19\" type=\"checkbox\" ><label for=\"sk-estimator-id-19\" class=\"sk-toggleable__label sk-toggleable__label-arrow\">DecisionTreeClassifier</label><div class=\"sk-toggleable__content\"><pre>DecisionTreeClassifier(random_state=42)</pre></div></div></div></div></div></div></div>"
      ],
      "text/plain": [
       "Pipeline(steps=[('preprocessing',\n",
       "                 ColumnTransformer(transformers=[('num',\n",
       "                                                  Pipeline(steps=[('attr_add',\n",
       "                                                                   CombinedFeatureAdder()),\n",
       "                                                                  ('std_scaler',\n",
       "                                                                   StandardScaler())]),\n",
       "                                                  ['kr_durchm', 'baumhoehe',\n",
       "                                                   'st_durchm', 'pflanzjahr']),\n",
       "                                                 ('ohe',\n",
       "                                                  OneHotEncoder(handle_unknown='ignore',\n",
       "                                                                sparse_output=False),\n",
       "                                                  ['gebiet', 'baum_statu'])])),\n",
       "                ('cluster',\n",
       "                 ColumnTransformer(remainder='passthrough',\n",
       "                                   transformers=[('kmeans',\n",
       "                                                  KMeans(n_clusters=7,\n",
       "                                                         n_init='auto',\n",
       "                                                         random_state=42),\n",
       "                                                  [1, 2])])),\n",
       "                ('c_feat', ClusterFeature(n_clusters=7)),\n",
       "                ('c_encoding',\n",
       "                 ColumnTransformer(remainder='passthrough',\n",
       "                                   transformers=[('cohe',\n",
       "                                                  OneHotEncoder(sparse_output=False),\n",
       "                                                  [0])])),\n",
       "                ('model', DecisionTreeClassifier(random_state=42))])"
      ]
     },
     "execution_count": 18,
     "metadata": {},
     "output_type": "execute_result"
    }
   ],
   "source": [
    "pipeline.fit(X=train_data[X], y=train_data[y])"
   ]
  },
  {
   "cell_type": "code",
   "execution_count": 19,
   "metadata": {},
   "outputs": [
    {
     "data": {
      "text/plain": [
       "array(['cohe__cluster_label_0.0', 'cohe__cluster_label_1.0',\n",
       "       'cohe__cluster_label_2.0', 'cohe__cluster_label_3.0',\n",
       "       'cohe__cluster_label_4.0', 'cohe__cluster_label_5.0',\n",
       "       'remainder__remainder__num__kr_durchm',\n",
       "       'remainder__remainder__num__pflanzjahr',\n",
       "       'remainder__remainder__num__cfa_volume',\n",
       "       'remainder__remainder__ohe__gebiet_25 Amt für Bau und Immobilien',\n",
       "       'remainder__remainder__ohe__gebiet_40 Stadtschulamt',\n",
       "       'remainder__remainder__ohe__gebiet_41 Kulturamt',\n",
       "       'remainder__remainder__ohe__gebiet_48 Kita Frankfurt',\n",
       "       'remainder__remainder__ohe__gebiet_51 Jugend- und Sozialamt',\n",
       "       'remainder__remainder__ohe__gebiet_52 Sportamt',\n",
       "       'remainder__remainder__ohe__gebiet_57 Kommunale Kinder-, Jugend- und Familienhilfe',\n",
       "       'remainder__remainder__ohe__gebiet_67 Mietliegenschaften',\n",
       "       'remainder__remainder__ohe__gebiet_Ausgleichsfläche',\n",
       "       'remainder__remainder__ohe__gebiet_Friedhof',\n",
       "       'remainder__remainder__ohe__gebiet_Grünanlagen',\n",
       "       'remainder__remainder__ohe__gebiet_Klinikum Höchst',\n",
       "       'remainder__remainder__ohe__gebiet_Park',\n",
       "       'remainder__remainder__ohe__gebiet_Parkplätze',\n",
       "       'remainder__remainder__ohe__gebiet_Privatfläche',\n",
       "       'remainder__remainder__ohe__gebiet_R 0006',\n",
       "       'remainder__remainder__ohe__gebiet_R 0007',\n",
       "       'remainder__remainder__ohe__gebiet_R 0008',\n",
       "       'remainder__remainder__ohe__gebiet_R 0009',\n",
       "       'remainder__remainder__ohe__gebiet_R 0013',\n",
       "       'remainder__remainder__ohe__gebiet_R 0014',\n",
       "       'remainder__remainder__ohe__gebiet_R 0015',\n",
       "       'remainder__remainder__ohe__gebiet_R 0016',\n",
       "       'remainder__remainder__ohe__gebiet_R 0017',\n",
       "       'remainder__remainder__ohe__gebiet_R 0018',\n",
       "       'remainder__remainder__ohe__gebiet_R 0019',\n",
       "       'remainder__remainder__ohe__gebiet_R 0020',\n",
       "       'remainder__remainder__ohe__gebiet_R 0023',\n",
       "       'remainder__remainder__ohe__gebiet_R 0024',\n",
       "       'remainder__remainder__ohe__gebiet_R 0025',\n",
       "       'remainder__remainder__ohe__gebiet_R 0026',\n",
       "       'remainder__remainder__ohe__gebiet_R 0028',\n",
       "       'remainder__remainder__ohe__gebiet_R 0029',\n",
       "       'remainder__remainder__ohe__gebiet_R 0030',\n",
       "       'remainder__remainder__ohe__gebiet_R 0033',\n",
       "       'remainder__remainder__ohe__gebiet_R 0034',\n",
       "       'remainder__remainder__ohe__gebiet_R 0035',\n",
       "       'remainder__remainder__ohe__gebiet_R 0036',\n",
       "       'remainder__remainder__ohe__gebiet_R 0037',\n",
       "       'remainder__remainder__ohe__gebiet_R 0038',\n",
       "       'remainder__remainder__ohe__gebiet_R 0039',\n",
       "       'remainder__remainder__ohe__gebiet_R 0040',\n",
       "       'remainder__remainder__ohe__gebiet_R 0042',\n",
       "       'remainder__remainder__ohe__gebiet_R 0043',\n",
       "       'remainder__remainder__ohe__gebiet_R 0044',\n",
       "       'remainder__remainder__ohe__gebiet_R 0045',\n",
       "       'remainder__remainder__ohe__gebiet_R 0046',\n",
       "       'remainder__remainder__ohe__gebiet_R 0047',\n",
       "       'remainder__remainder__ohe__gebiet_R 0048',\n",
       "       'remainder__remainder__ohe__gebiet_R 0049',\n",
       "       'remainder__remainder__ohe__gebiet_R 0052',\n",
       "       'remainder__remainder__ohe__gebiet_R 0053',\n",
       "       'remainder__remainder__ohe__gebiet_R 0054',\n",
       "       'remainder__remainder__ohe__gebiet_R 0055',\n",
       "       'remainder__remainder__ohe__gebiet_R 0056',\n",
       "       'remainder__remainder__ohe__gebiet_R 0057',\n",
       "       'remainder__remainder__ohe__gebiet_R 0058',\n",
       "       'remainder__remainder__ohe__gebiet_R 0059',\n",
       "       'remainder__remainder__ohe__gebiet_R 0062',\n",
       "       'remainder__remainder__ohe__gebiet_R 0063',\n",
       "       'remainder__remainder__ohe__gebiet_R 0064',\n",
       "       'remainder__remainder__ohe__gebiet_R 0065',\n",
       "       'remainder__remainder__ohe__gebiet_R 0066',\n",
       "       'remainder__remainder__ohe__gebiet_R 0067',\n",
       "       'remainder__remainder__ohe__gebiet_R 0068',\n",
       "       'remainder__remainder__ohe__gebiet_R 0069',\n",
       "       'remainder__remainder__ohe__gebiet_R 0072',\n",
       "       'remainder__remainder__ohe__gebiet_R 0073',\n",
       "       'remainder__remainder__ohe__gebiet_R 0074',\n",
       "       'remainder__remainder__ohe__gebiet_R 0075',\n",
       "       'remainder__remainder__ohe__gebiet_R 0076',\n",
       "       'remainder__remainder__ohe__gebiet_R 0077',\n",
       "       'remainder__remainder__ohe__gebiet_R 0078',\n",
       "       'remainder__remainder__ohe__gebiet_R 0081',\n",
       "       'remainder__remainder__ohe__gebiet_R 0082',\n",
       "       'remainder__remainder__ohe__gebiet_R 0083',\n",
       "       'remainder__remainder__ohe__gebiet_R 0084',\n",
       "       'remainder__remainder__ohe__gebiet_R 0085',\n",
       "       'remainder__remainder__ohe__gebiet_R 0086',\n",
       "       'remainder__remainder__ohe__gebiet_R 0087',\n",
       "       'remainder__remainder__ohe__gebiet_R 0088',\n",
       "       'remainder__remainder__ohe__gebiet_R 0091',\n",
       "       'remainder__remainder__ohe__gebiet_R 0093',\n",
       "       'remainder__remainder__ohe__gebiet_R 0094',\n",
       "       'remainder__remainder__ohe__gebiet_R 0095',\n",
       "       'remainder__remainder__ohe__gebiet_R 0097',\n",
       "       'remainder__remainder__ohe__gebiet_R 0098',\n",
       "       'remainder__remainder__ohe__gebiet_R 0101',\n",
       "       'remainder__remainder__ohe__gebiet_R 0102',\n",
       "       'remainder__remainder__ohe__gebiet_R 0103',\n",
       "       'remainder__remainder__ohe__gebiet_R 0104',\n",
       "       'remainder__remainder__ohe__gebiet_R 0105',\n",
       "       'remainder__remainder__ohe__gebiet_R 0106',\n",
       "       'remainder__remainder__ohe__gebiet_R 0107',\n",
       "       'remainder__remainder__ohe__gebiet_R 0108',\n",
       "       'remainder__remainder__ohe__gebiet_R 0112',\n",
       "       'remainder__remainder__ohe__gebiet_R 0113',\n",
       "       'remainder__remainder__ohe__gebiet_R 0114',\n",
       "       'remainder__remainder__ohe__gebiet_R 0115',\n",
       "       'remainder__remainder__ohe__gebiet_R 0116',\n",
       "       'remainder__remainder__ohe__gebiet_R 0117',\n",
       "       'remainder__remainder__ohe__gebiet_R 0118',\n",
       "       'remainder__remainder__ohe__gebiet_R 0123',\n",
       "       'remainder__remainder__ohe__gebiet_R 0124',\n",
       "       'remainder__remainder__ohe__gebiet_R 0125',\n",
       "       'remainder__remainder__ohe__gebiet_R 0126',\n",
       "       'remainder__remainder__ohe__gebiet_R 0135',\n",
       "       'remainder__remainder__ohe__gebiet_R 0136',\n",
       "       'remainder__remainder__ohe__gebiet_Spielplätze',\n",
       "       'remainder__remainder__ohe__gebiet_Sportparkstadion',\n",
       "       'remainder__remainder__ohe__gebiet_Straßen',\n",
       "       'remainder__remainder__ohe__gebiet_Wald',\n",
       "       'remainder__remainder__ohe__gebiet_Waldspielpark',\n",
       "       'remainder__remainder__ohe__gebiet_Zoologischer Garten',\n",
       "       'remainder__remainder__ohe__baum_statu_H',\n",
       "       'remainder__remainder__ohe__baum_statu_N',\n",
       "       'remainder__remainder__ohe__baum_statu_W',\n",
       "       'remainder__remainder__ohe__baum_statu_nan'], dtype=object)"
      ]
     },
     "execution_count": 19,
     "metadata": {},
     "output_type": "execute_result"
    }
   ],
   "source": [
    "pipeline[:-1].get_feature_names_out()"
   ]
  },
  {
   "cell_type": "code",
   "execution_count": 20,
   "metadata": {},
   "outputs": [
    {
     "data": {
      "text/plain": [
       "array([0.35104044, 0.35689046, 0.35316058, 0.35109349, 0.34842357])"
      ]
     },
     "execution_count": 20,
     "metadata": {},
     "output_type": "execute_result"
    }
   ],
   "source": [
    "from sklearn.model_selection import cross_val_score\n",
    "\n",
    "cross_val_score(estimator=pipeline, X=train_data[X], y=train_data[y], cv=5)"
   ]
  },
  {
   "cell_type": "code",
   "execution_count": 21,
   "metadata": {},
   "outputs": [
    {
     "data": {
      "text/plain": [
       "0.3566918993623771"
      ]
     },
     "execution_count": 21,
     "metadata": {},
     "output_type": "execute_result"
    }
   ],
   "source": [
    "pipeline.score(X=test_data[X], y=test_data[y])"
   ]
  },
  {
   "cell_type": "markdown",
   "metadata": {},
   "source": []
  }
 ],
 "metadata": {
  "kernelspec": {
   "display_name": "Python 3.9.12 ('ads3-03-e2e')",
   "language": "python",
   "name": "python3"
  },
  "language_info": {
   "codemirror_mode": {
    "name": "ipython",
    "version": 3
   },
   "file_extension": ".py",
   "mimetype": "text/x-python",
   "name": "python",
   "nbconvert_exporter": "python",
   "pygments_lexer": "ipython3",
   "version": "3.11.8"
  },
  "orig_nbformat": 4,
  "vscode": {
   "interpreter": {
    "hash": "7dda575964029847821f774d67ee288cb7761a9a59c41206532536da7da0cf57"
   }
  }
 },
 "nbformat": 4,
 "nbformat_minor": 2
}
