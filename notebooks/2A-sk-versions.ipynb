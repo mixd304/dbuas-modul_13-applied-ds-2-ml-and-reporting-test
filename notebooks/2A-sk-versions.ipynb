{
 "cells": [
  {
   "cell_type": "markdown",
   "metadata": {},
   "source": [
    "# A - Reproduzierbarkeit vs. Versionsprobleme"
   ]
  },
  {
   "cell_type": "markdown",
   "metadata": {},
   "source": [
    "In der Vergangenheit hat es breaking changes in der scikit-learn API gegeben. Scikit-learn Release History: https://scikit-learn.org/stable/whats_new.html"
   ]
  },
  {
   "cell_type": "code",
   "execution_count": 4,
   "metadata": {},
   "outputs": [
    {
     "name": "stdout",
     "output_type": "stream",
     "text": [
      "The autoreload extension is already loaded. To reload it, use:\n",
      "  %reload_ext autoreload\n"
     ]
    }
   ],
   "source": [
    "%load_ext autoreload\n",
    "%autoreload 2"
   ]
  },
  {
   "cell_type": "code",
   "execution_count": 5,
   "metadata": {},
   "outputs": [],
   "source": [
    "from repml.datasets.trees_fra import read_trees_fra"
   ]
  },
  {
   "cell_type": "code",
   "execution_count": 6,
   "metadata": {},
   "outputs": [
    {
     "data": {
      "text/plain": [
       "'1.3.2'"
      ]
     },
     "execution_count": 6,
     "metadata": {},
     "output_type": "execute_result"
    }
   ],
   "source": [
    "import sklearn\n",
    "\n",
    "sklearn.__version__"
   ]
  },
  {
   "cell_type": "code",
   "execution_count": 7,
   "metadata": {},
   "outputs": [
    {
     "name": "stdout",
     "output_type": "stream",
     "text": [
      "Collecting scikit-learn==1.1.3\n",
      "  Downloading scikit_learn-1.1.3-cp311-cp311-win_amd64.whl.metadata (10 kB)\n",
      "Requirement already satisfied: numpy>=1.17.3 in c:\\dev\\python\\anaconda3\\envs\\ads-ml-full\\lib\\site-packages (from scikit-learn==1.1.3) (1.26.4)\n",
      "Requirement already satisfied: scipy>=1.3.2 in c:\\dev\\python\\anaconda3\\envs\\ads-ml-full\\lib\\site-packages (from scikit-learn==1.1.3) (1.12.0)\n",
      "Requirement already satisfied: joblib>=1.0.0 in c:\\dev\\python\\anaconda3\\envs\\ads-ml-full\\lib\\site-packages (from scikit-learn==1.1.3) (1.3.2)\n",
      "Requirement already satisfied: threadpoolctl>=2.0.0 in c:\\dev\\python\\anaconda3\\envs\\ads-ml-full\\lib\\site-packages (from scikit-learn==1.1.3) (3.3.0)\n",
      "Downloading scikit_learn-1.1.3-cp311-cp311-win_amd64.whl (7.5 MB)\n",
      "   ---------------------------------------- 0.0/7.5 MB ? eta -:--:--\n",
      "   ---------------------------------------- 0.0/7.5 MB ? eta -:--:--\n",
      "   ---------------------------------------- 0.0/7.5 MB ? eta -:--:--\n",
      "   ---------------------------------------- 0.0/7.5 MB ? eta -:--:--\n",
      "   ---------------------------------------- 0.0/7.5 MB 217.9 kB/s eta 0:00:35\n",
      "    --------------------------------------- 0.1/7.5 MB 554.9 kB/s eta 0:00:14\n",
      "   - -------------------------------------- 0.4/7.5 MB 1.5 MB/s eta 0:00:05\n",
      "   - -------------------------------------- 0.4/7.5 MB 1.5 MB/s eta 0:00:05\n",
      "   ---- ----------------------------------- 0.8/7.5 MB 2.4 MB/s eta 0:00:03\n",
      "   ---- ----------------------------------- 0.8/7.5 MB 2.4 MB/s eta 0:00:03\n",
      "   -------- ------------------------------- 1.5/7.5 MB 3.5 MB/s eta 0:00:02\n",
      "   --------- ------------------------------ 1.7/7.5 MB 3.5 MB/s eta 0:00:02\n",
      "   ----------------- ---------------------- 3.2/7.5 MB 6.0 MB/s eta 0:00:01\n",
      "   ----------------------- ---------------- 4.5/7.5 MB 7.7 MB/s eta 0:00:01\n",
      "   ------------------------------- -------- 5.9/7.5 MB 9.4 MB/s eta 0:00:01\n",
      "   ---------------------------------------  7.3/7.5 MB 11.1 MB/s eta 0:00:01\n",
      "   ---------------------------------------- 7.5/7.5 MB 10.6 MB/s eta 0:00:00\n",
      "Installing collected packages: scikit-learn\n",
      "  Attempting uninstall: scikit-learn\n",
      "    Found existing installation: scikit-learn 1.3.2\n",
      "    Uninstalling scikit-learn-1.3.2:\n",
      "      Successfully uninstalled scikit-learn-1.3.2\n",
      "Successfully installed scikit-learn-1.1.3\n",
      "Note: you may need to restart the kernel to use updated packages.\n"
     ]
    },
    {
     "name": "stderr",
     "output_type": "stream",
     "text": [
      "  WARNING: Failed to remove contents in a temporary directory 'C:\\Dev\\Python\\Anaconda3\\envs\\ads-ml-full\\Lib\\site-packages\\~klearn'.\n",
      "  You can safely remove it manually.\n"
     ]
    }
   ],
   "source": [
    "%pip install scikit-learn==1.1.3"
   ]
  },
  {
   "cell_type": "code",
   "execution_count": 19,
   "metadata": {},
   "outputs": [
    {
     "data": {
      "text/plain": [
       "'1.1.3'"
      ]
     },
     "execution_count": 19,
     "metadata": {},
     "output_type": "execute_result"
    }
   ],
   "source": [
    "sklearn.__version__"
   ]
  },
  {
   "cell_type": "code",
   "execution_count": 9,
   "metadata": {},
   "outputs": [],
   "source": [
    "data = read_trees_fra()"
   ]
  },
  {
   "cell_type": "code",
   "execution_count": 10,
   "metadata": {},
   "outputs": [
    {
     "data": {
      "text/plain": [
       "(159185, 16)"
      ]
     },
     "execution_count": 10,
     "metadata": {},
     "output_type": "execute_result"
    }
   ],
   "source": [
    "data.shape"
   ]
  },
  {
   "cell_type": "code",
   "execution_count": 11,
   "metadata": {},
   "outputs": [
    {
     "data": {
      "text/plain": [
       "baumnummer      object\n",
       "hochwert       float64\n",
       "rechtswert     float64\n",
       "gattungart    category\n",
       "gattung       category\n",
       "ga_lang       category\n",
       "kr_durchm      float64\n",
       "st_umfang      float64\n",
       "gebiet        category\n",
       "strasse       category\n",
       "standort      category\n",
       "baumhoehe        int64\n",
       "st_durchm        int64\n",
       "pflanzjahr       int64\n",
       "baum_statu    category\n",
       "kr_r           float64\n",
       "dtype: object"
      ]
     },
     "execution_count": 11,
     "metadata": {},
     "output_type": "execute_result"
    }
   ],
   "source": [
    "data.dtypes"
   ]
  },
  {
   "cell_type": "code",
   "execution_count": 12,
   "metadata": {},
   "outputs": [],
   "source": [
    "cat_cols_subset = [\"gattungart\", \"gattung\", \"gebiet\", \"baum_statu\"]"
   ]
  },
  {
   "cell_type": "code",
   "execution_count": 13,
   "metadata": {},
   "outputs": [
    {
     "data": {
      "text/html": [
       "<style>#sk-container-id-1 {color: black;background-color: white;}#sk-container-id-1 pre{padding: 0;}#sk-container-id-1 div.sk-toggleable {background-color: white;}#sk-container-id-1 label.sk-toggleable__label {cursor: pointer;display: block;width: 100%;margin-bottom: 0;padding: 0.3em;box-sizing: border-box;text-align: center;}#sk-container-id-1 label.sk-toggleable__label-arrow:before {content: \"▸\";float: left;margin-right: 0.25em;color: #696969;}#sk-container-id-1 label.sk-toggleable__label-arrow:hover:before {color: black;}#sk-container-id-1 div.sk-estimator:hover label.sk-toggleable__label-arrow:before {color: black;}#sk-container-id-1 div.sk-toggleable__content {max-height: 0;max-width: 0;overflow: hidden;text-align: left;background-color: #f0f8ff;}#sk-container-id-1 div.sk-toggleable__content pre {margin: 0.2em;color: black;border-radius: 0.25em;background-color: #f0f8ff;}#sk-container-id-1 input.sk-toggleable__control:checked~div.sk-toggleable__content {max-height: 200px;max-width: 100%;overflow: auto;}#sk-container-id-1 input.sk-toggleable__control:checked~label.sk-toggleable__label-arrow:before {content: \"▾\";}#sk-container-id-1 div.sk-estimator input.sk-toggleable__control:checked~label.sk-toggleable__label {background-color: #d4ebff;}#sk-container-id-1 div.sk-label input.sk-toggleable__control:checked~label.sk-toggleable__label {background-color: #d4ebff;}#sk-container-id-1 input.sk-hidden--visually {border: 0;clip: rect(1px 1px 1px 1px);clip: rect(1px, 1px, 1px, 1px);height: 1px;margin: -1px;overflow: hidden;padding: 0;position: absolute;width: 1px;}#sk-container-id-1 div.sk-estimator {font-family: monospace;background-color: #f0f8ff;border: 1px dotted black;border-radius: 0.25em;box-sizing: border-box;margin-bottom: 0.5em;}#sk-container-id-1 div.sk-estimator:hover {background-color: #d4ebff;}#sk-container-id-1 div.sk-parallel-item::after {content: \"\";width: 100%;border-bottom: 1px solid gray;flex-grow: 1;}#sk-container-id-1 div.sk-label:hover label.sk-toggleable__label {background-color: #d4ebff;}#sk-container-id-1 div.sk-serial::before {content: \"\";position: absolute;border-left: 1px solid gray;box-sizing: border-box;top: 0;bottom: 0;left: 50%;z-index: 0;}#sk-container-id-1 div.sk-serial {display: flex;flex-direction: column;align-items: center;background-color: white;padding-right: 0.2em;padding-left: 0.2em;position: relative;}#sk-container-id-1 div.sk-item {position: relative;z-index: 1;}#sk-container-id-1 div.sk-parallel {display: flex;align-items: stretch;justify-content: center;background-color: white;position: relative;}#sk-container-id-1 div.sk-item::before, #sk-container-id-1 div.sk-parallel-item::before {content: \"\";position: absolute;border-left: 1px solid gray;box-sizing: border-box;top: 0;bottom: 0;left: 50%;z-index: -1;}#sk-container-id-1 div.sk-parallel-item {display: flex;flex-direction: column;z-index: 1;position: relative;background-color: white;}#sk-container-id-1 div.sk-parallel-item:first-child::after {align-self: flex-end;width: 50%;}#sk-container-id-1 div.sk-parallel-item:last-child::after {align-self: flex-start;width: 50%;}#sk-container-id-1 div.sk-parallel-item:only-child::after {width: 0;}#sk-container-id-1 div.sk-dashed-wrapped {border: 1px dashed gray;margin: 0 0.4em 0.5em 0.4em;box-sizing: border-box;padding-bottom: 0.4em;background-color: white;}#sk-container-id-1 div.sk-label label {font-family: monospace;font-weight: bold;display: inline-block;line-height: 1.2em;}#sk-container-id-1 div.sk-label-container {text-align: center;}#sk-container-id-1 div.sk-container {/* jupyter's `normalize.less` sets `[hidden] { display: none; }` but bootstrap.min.css set `[hidden] { display: none !important; }` so we also need the `!important` here to be able to override the default hidden behavior on the sphinx rendered scikit-learn.org. See: https://github.com/scikit-learn/scikit-learn/issues/21755 */display: inline-block !important;position: relative;}#sk-container-id-1 div.sk-text-repr-fallback {display: none;}</style><div id=\"sk-container-id-1\" class=\"sk-top-container\"><div class=\"sk-text-repr-fallback\"><pre>OneHotEncoder(handle_unknown=&#x27;ignore&#x27;, sparse=False)</pre><b>In a Jupyter environment, please rerun this cell to show the HTML representation or trust the notebook. <br />On GitHub, the HTML representation is unable to render, please try loading this page with nbviewer.org.</b></div><div class=\"sk-container\" hidden><div class=\"sk-item\"><div class=\"sk-estimator sk-toggleable\"><input class=\"sk-toggleable__control sk-hidden--visually\" id=\"sk-estimator-id-1\" type=\"checkbox\" checked><label for=\"sk-estimator-id-1\" class=\"sk-toggleable__label sk-toggleable__label-arrow\">OneHotEncoder</label><div class=\"sk-toggleable__content\"><pre>OneHotEncoder(handle_unknown=&#x27;ignore&#x27;, sparse=False)</pre></div></div></div></div></div>"
      ],
      "text/plain": [
       "OneHotEncoder(handle_unknown='ignore', sparse=False)"
      ]
     },
     "execution_count": 13,
     "metadata": {},
     "output_type": "execute_result"
    }
   ],
   "source": [
    "from sklearn.preprocessing import OneHotEncoder\n",
    "\n",
    "enc = OneHotEncoder(sparse=False, handle_unknown=\"ignore\")\n",
    "enc.fit(data[cat_cols_subset][:100000])"
   ]
  },
  {
   "cell_type": "code",
   "execution_count": 14,
   "metadata": {},
   "outputs": [
    {
     "data": {
      "text/plain": [
       "array([[0., 0., 0., ..., 0., 0., 1.],\n",
       "       [0., 0., 0., ..., 0., 0., 1.],\n",
       "       [0., 0., 0., ..., 0., 0., 1.],\n",
       "       ...,\n",
       "       [0., 0., 0., ..., 0., 0., 1.],\n",
       "       [0., 0., 0., ..., 0., 0., 1.],\n",
       "       [0., 0., 0., ..., 0., 0., 1.]])"
      ]
     },
     "execution_count": 14,
     "metadata": {},
     "output_type": "execute_result"
    }
   ],
   "source": [
    "enc.transform(data[cat_cols_subset][100000:])"
   ]
  },
  {
   "cell_type": "code",
   "execution_count": 15,
   "metadata": {},
   "outputs": [
    {
     "data": {
      "text/plain": [
       "array(['gattungart_G0001', 'gattungart_G0002', 'gattungart_G0004',\n",
       "       'gattungart_G0005', 'gattungart_G0006', 'gattungart_G0007',\n",
       "       'gattungart_G0008', 'gattungart_G0009', 'gattungart_G0012',\n",
       "       'gattungart_G0013', 'gattungart_G0014', 'gattungart_G0015',\n",
       "       'gattungart_G0020', 'gattungart_G0024', 'gattungart_G0027',\n",
       "       'gattungart_G0030', 'gattungart_G0036', 'gattungart_G0038',\n",
       "       'gattungart_G0039', 'gattungart_G0041', 'gattungart_G0042',\n",
       "       'gattungart_G0043', 'gattungart_G0044', 'gattungart_G0045',\n",
       "       'gattungart_G0046', 'gattungart_G0047', 'gattungart_G0049',\n",
       "       'gattungart_G0051', 'gattungart_G0052', 'gattungart_G0053',\n",
       "       'gattungart_G0054', 'gattungart_G0055', 'gattungart_G0056',\n",
       "       'gattungart_G0057', 'gattungart_G0058', 'gattungart_G0060',\n",
       "       'gattungart_G0061', 'gattungart_G0063', 'gattungart_G0064',\n",
       "       'gattungart_G0065', 'gattungart_G0069', 'gattungart_G0071',\n",
       "       'gattungart_G0072', 'gattungart_G0073', 'gattungart_G0075',\n",
       "       'gattungart_G0076', 'gattungart_G0080', 'gattungart_G0081',\n",
       "       'gattungart_G0082', 'gattungart_G0083', 'gattungart_G0084',\n",
       "       'gattungart_G0085', 'gattungart_G0087', 'gattungart_G0088',\n",
       "       'gattungart_G0089', 'gattungart_G0091', 'gattungart_G0092',\n",
       "       'gattungart_G0094', 'gattungart_G0097', 'gattungart_G0098',\n",
       "       'gattungart_G0101', 'gattungart_G0102', 'gattungart_G0103',\n",
       "       'gattungart_G0105', 'gattungart_G0106', 'gattungart_G0107',\n",
       "       'gattungart_G0108', 'gattungart_G0109', 'gattungart_G0110',\n",
       "       'gattungart_G0111', 'gattungart_G0119', 'gattungart_G0121',\n",
       "       'gattungart_G0123', 'gattungart_G0125', 'gattungart_G0126',\n",
       "       'gattungart_G0127', 'gattungart_G0128', 'gattungart_G0131',\n",
       "       'gattungart_G0133', 'gattungart_G0134', 'gattungart_G0136',\n",
       "       'gattungart_G0139', 'gattungart_G0141', 'gattungart_G0142',\n",
       "       'gattungart_G0144', 'gattungart_G0146', 'gattungart_G0147',\n",
       "       'gattungart_G0149', 'gattungart_G0150', 'gattungart_G0153',\n",
       "       'gattungart_G0156', 'gattungart_G0158', 'gattungart_G0159',\n",
       "       'gattungart_G0162', 'gattungart_G0163', 'gattungart_G0165',\n",
       "       'gattungart_G0166', 'gattungart_G0167', 'gattungart_G0168',\n",
       "       'gattungart_G0169', 'gattungart_G0170', 'gattungart_G0172',\n",
       "       'gattungart_G0173', 'gattungart_G0174', 'gattungart_G0176',\n",
       "       'gattungart_G0178', 'gattungart_G0181', 'gattungart_G0182',\n",
       "       'gattungart_G0185', 'gattungart_G0190', 'gattungart_G0194',\n",
       "       'gattungart_G0195', 'gattungart_G0196', 'gattungart_G0197',\n",
       "       'gattungart_G0198', 'gattungart_G0201', 'gattungart_G0204',\n",
       "       'gattungart_G0206', 'gattungart_G0207', 'gattungart_G0209',\n",
       "       'gattungart_G0210', 'gattungart_G0211', 'gattungart_G0214',\n",
       "       'gattungart_G0217', 'gattungart_G0218', 'gattungart_G0220',\n",
       "       'gattungart_G0221', 'gattungart_G0222', 'gattungart_G0229',\n",
       "       'gattungart_G0230', 'gattungart_G0232', 'gattungart_G0234',\n",
       "       'gattungart_G0235', 'gattungart_G0236', 'gattungart_G0237',\n",
       "       'gattungart_G0238', 'gattungart_G0239', 'gattungart_G0243',\n",
       "       'gattungart_G0244', 'gattungart_G0245', 'gattungart_G0246',\n",
       "       'gattungart_G0248', 'gattungart_G0249', 'gattungart_G0250',\n",
       "       'gattungart_G0251', 'gattungart_G0253', 'gattungart_G0254',\n",
       "       'gattungart_G0256', 'gattungart_G0259', 'gattungart_G0260',\n",
       "       'gattungart_G0261', 'gattungart_G0262', 'gattungart_G0264',\n",
       "       'gattungart_G0266', 'gattungart_G0267', 'gattungart_G0268',\n",
       "       'gattungart_G0269', 'gattungart_G0270', 'gattungart_G0271',\n",
       "       'gattungart_G0272', 'gattungart_G0275', 'gattungart_G0277',\n",
       "       'gattungart_G0279', 'gattungart_G0282', 'gattungart_G0285',\n",
       "       'gattungart_G0286', 'gattungart_G0288', 'gattungart_G0290',\n",
       "       'gattungart_G0295', 'gattungart_G0296', 'gattungart_G0300',\n",
       "       'gattungart_G0301', 'gattungart_G0305', 'gattungart_G0309',\n",
       "       'gattungart_G0310', 'gattungart_G0311', 'gattungart_G0313',\n",
       "       'gattungart_G0316', 'gattungart_G0318', 'gattungart_G0319',\n",
       "       'gattungart_G0322', 'gattungart_G0323', 'gattungart_G0325',\n",
       "       'gattungart_G0329', 'gattungart_G0331', 'gattungart_G0332',\n",
       "       'gattungart_G0337', 'gattungart_G0338', 'gattungart_G0343',\n",
       "       'gattungart_G0344', 'gattungart_G0345', 'gattungart_G0347',\n",
       "       'gattungart_G0348', 'gattungart_G0352', 'gattungart_G0361',\n",
       "       'gattungart_G0365', 'gattungart_G0366', 'gattungart_G0367',\n",
       "       'gattungart_G0369', 'gattungart_G0370', 'gattungart_G0373',\n",
       "       'gattungart_G0375', 'gattungart_G0376', 'gattungart_G0377',\n",
       "       'gattungart_G0379', 'gattungart_G0386', 'gattungart_G0387',\n",
       "       'gattungart_G0390', 'gattungart_G0391', 'gattungart_G0395',\n",
       "       'gattungart_G0396', 'gattungart_G0397', 'gattungart_G0401',\n",
       "       'gattungart_G0402', 'gattungart_G0403', 'gattungart_G0404',\n",
       "       'gattungart_G0409', 'gattungart_G0410', 'gattungart_G0411',\n",
       "       'gattungart_G0413', 'gattungart_G0415', 'gattungart_G0416',\n",
       "       'gattungart_G0418', 'gattungart_G0419', 'gattungart_G0420',\n",
       "       'gattungart_G0421', 'gattungart_G0422', 'gattungart_G0424',\n",
       "       'gattungart_G0428', 'gattungart_G0429', 'gattungart_G0430',\n",
       "       'gattungart_G0432', 'gattungart_G0433', 'gattungart_G0436',\n",
       "       'gattungart_G0438', 'gattungart_G0439', 'gattungart_G0442',\n",
       "       'gattungart_G0444', 'gattungart_G0445', 'gattungart_G0446',\n",
       "       'gattungart_G0447', 'gattungart_G0449', 'gattungart_G0450',\n",
       "       'gattungart_G0451', 'gattungart_G0452', 'gattungart_G0453',\n",
       "       'gattungart_G0454', 'gattungart_G0455', 'gattungart_G0456',\n",
       "       'gattungart_G0457', 'gattungart_G0458', 'gattungart_G0462',\n",
       "       'gattungart_G0463', 'gattungart_G0464', 'gattungart_G0465',\n",
       "       'gattungart_G0466', 'gattungart_G0467', 'gattungart_G0468',\n",
       "       'gattungart_G0469', 'gattungart_G0470', 'gattungart_G0471',\n",
       "       'gattungart_G0473', 'gattungart_G0477', 'gattungart_G0480',\n",
       "       'gattungart_G0481', 'gattungart_G0482', 'gattungart_G0484',\n",
       "       'gattungart_G0485', 'gattungart_G0486', 'gattungart_G0488',\n",
       "       'gattungart_G0489', 'gattungart_G0490', 'gattungart_G0491',\n",
       "       'gattungart_G0492', 'gattungart_G0493', 'gattungart_G0494',\n",
       "       'gattungart_G0496', 'gattungart_G0497', 'gattungart_G0498',\n",
       "       'gattungart_G0500', 'gattungart_G0503', 'gattungart_G0506',\n",
       "       'gattungart_G0511', 'gattungart_G0513', 'gattungart_G0514',\n",
       "       'gattungart_G0515', 'gattungart_G0518', 'gattungart_G0519',\n",
       "       'gattungart_G0520', 'gattungart_G0521', 'gattungart_G0522',\n",
       "       'gattungart_G0523', 'gattungart_G0524', 'gattungart_G0527',\n",
       "       'gattungart_G0528', 'gattungart_G0529', 'gattungart_G0531',\n",
       "       'gattungart_G0533', 'gattungart_G0534', 'gattungart_G0536',\n",
       "       'gattungart_G0541', 'gattungart_G0544', 'gattungart_G0545',\n",
       "       'gattungart_G0548', 'gattungart_G0551', 'gattungart_G0552',\n",
       "       'gattungart_G0553', 'gattungart_G0554', 'gattungart_G0555',\n",
       "       'gattungart_G0556', 'gattungart_G0557', 'gattungart_G0559',\n",
       "       'gattungart_G0561', 'gattungart_G0563', 'gattungart_G0567',\n",
       "       'gattungart_G0568', 'gattungart_G0570', 'gattungart_G0571',\n",
       "       'gattungart_G0572', 'gattungart_G0573', 'gattungart_G0575',\n",
       "       'gattungart_G0576', 'gattungart_G0577', 'gattungart_G0578',\n",
       "       'gattungart_G0579', 'gattungart_G0580', 'gattungart_G0583',\n",
       "       'gattungart_G0584', 'gattungart_G0585', 'gattungart_G0587',\n",
       "       'gattungart_G0589', 'gattungart_G0590', 'gattungart_G0591',\n",
       "       'gattungart_G0595', 'gattungart_G0596', 'gattungart_G0598',\n",
       "       'gattungart_G0599', 'gattungart_G0602', 'gattungart_G0603',\n",
       "       'gattungart_G0604', 'gattungart_G0605', 'gattungart_G0606',\n",
       "       'gattungart_G0608', 'gattungart_G0610', 'gattungart_G0611',\n",
       "       'gattungart_G0612', 'gattungart_G0614', 'gattungart_G0615',\n",
       "       'gattungart_G0617', 'gattungart_G0618', 'gattungart_G0622',\n",
       "       'gattungart_G0625', 'gattungart_G0627', 'gattungart_G0629',\n",
       "       'gattungart_G0630', 'gattungart_G0631', 'gattungart_G0634',\n",
       "       'gattungart_G0639', 'gattungart_G0640', 'gattungart_G0641',\n",
       "       'gattungart_G0642', 'gattungart_G0643', 'gattungart_G0644',\n",
       "       'gattungart_G0645', 'gattungart_G0646', 'gattungart_G0648',\n",
       "       'gattungart_G0649', 'gattungart_G0650', 'gattungart_G0651',\n",
       "       'gattungart_G0652', 'gattungart_G0653', 'gattungart_G0655',\n",
       "       'gattungart_G0656', 'gattungart_G0659', 'gattungart_G0660',\n",
       "       'gattungart_G0661', 'gattungart_G0662', 'gattungart_G0663',\n",
       "       'gattungart_G0664', 'gattungart_G0665', 'gattungart_G0666',\n",
       "       'gattungart_G0667', 'gattungart_G0668', 'gattungart_G0669',\n",
       "       'gattungart_G0671', 'gattungart_G0673', 'gattungart_G0674',\n",
       "       'gattungart_G0676', 'gattungart_G0677', 'gattungart_G0678',\n",
       "       'gattungart_G0681', 'gattungart_G0683', 'gattungart_G0685',\n",
       "       'gattungart_G0688', 'gattungart_G0689', 'gattungart_G0690',\n",
       "       'gattungart_G0692', 'gattungart_G0694', 'gattungart_G0695',\n",
       "       'gattungart_G0698', 'gattungart_G0699', 'gattungart_G0700',\n",
       "       'gattungart_G0701', 'gattungart_G0706', 'gattungart_G0710',\n",
       "       'gattungart_nan', 'gattung_Abies', 'gattung_Acer',\n",
       "       'gattung_Aesculus', 'gattung_Ailanthus', 'gattung_Albizia',\n",
       "       'gattung_Alnus', 'gattung_Amelanchier', 'gattung_Berberis',\n",
       "       'gattung_Betula', 'gattung_Buxus', 'gattung_Calocedrus',\n",
       "       'gattung_Carpinus', 'gattung_Carya', 'gattung_Castanea',\n",
       "       'gattung_Catalpa', 'gattung_Cedrus', 'gattung_Celtis',\n",
       "       'gattung_Cephalotaxus', 'gattung_Cercidiphyllum', 'gattung_Cercis',\n",
       "       'gattung_Chamaecyparis', 'gattung_Citrus', 'gattung_Cladastris',\n",
       "       'gattung_Cornus', 'gattung_Corylus', 'gattung_Cotinus',\n",
       "       'gattung_Cotoneaster', 'gattung_Crataegus', 'gattung_Cryptomeria',\n",
       "       'gattung_Cupressus', 'gattung_Cydonia', 'gattung_Davidia',\n",
       "       'gattung_Diospyros', 'gattung_Elaeagnus', 'gattung_Eriobotrya',\n",
       "       'gattung_Fagus', 'gattung_Ficus', 'gattung_Fontanesia',\n",
       "       'gattung_Fraxinus', 'gattung_Ginkgo', 'gattung_Gleditsia',\n",
       "       'gattung_Gymnocladus', 'gattung_Hibiscus', 'gattung_Hippophae',\n",
       "       'gattung_Ilex', 'gattung_Juglans', 'gattung_Juniperus',\n",
       "       'gattung_Koelreuteria', 'gattung_Laburnum', 'gattung_Larix',\n",
       "       'gattung_Laurus', 'gattung_Liquidambar', 'gattung_Liriodendron',\n",
       "       'gattung_Lunicera', 'gattung_Maclura', 'gattung_Magnolia',\n",
       "       'gattung_Malus', 'gattung_Mespilus', 'gattung_Metasequoia',\n",
       "       'gattung_Morus', 'gattung_Musa', 'gattung_Ostrya',\n",
       "       'gattung_Parrotia', 'gattung_Paulownia', 'gattung_Phellodendron',\n",
       "       'gattung_Phillyrea', 'gattung_Photinia', 'gattung_Picea',\n",
       "       'gattung_Pinus', 'gattung_Platanus', 'gattung_Platycladus',\n",
       "       'gattung_Populus', 'gattung_Prunus', 'gattung_Pseudotsuga',\n",
       "       'gattung_Ptelea', 'gattung_Pterocarya', 'gattung_Pyrus',\n",
       "       'gattung_Quercus', 'gattung_Rhamnus', 'gattung_Rhus',\n",
       "       'gattung_Robinia', 'gattung_Salix', 'gattung_Sambucus',\n",
       "       'gattung_Sequoia', 'gattung_Sequoiadendron', 'gattung_Sorbus',\n",
       "       'gattung_Styphnolobium', 'gattung_Syringa', 'gattung_Tamarix',\n",
       "       'gattung_Taxodium', 'gattung_Taxus', 'gattung_Tetradium',\n",
       "       'gattung_Thuja', 'gattung_Tilia', 'gattung_Trachycarpus',\n",
       "       'gattung_Tsuga', 'gattung_Ulmus', 'gattung_Viburnum',\n",
       "       'gattung_Zanthoxylum', 'gattung_Zelkova', 'gattung_waldartiger',\n",
       "       'gattung_x', 'gebiet_25 Amt für Bau und Immobilien',\n",
       "       'gebiet_40 Stadtschulamt', 'gebiet_41 Kulturamt',\n",
       "       'gebiet_48 Kita Frankfurt', 'gebiet_51 Jugend- und Sozialamt',\n",
       "       'gebiet_52 Sportamt',\n",
       "       'gebiet_57 Kommunale Kinder-, Jugend- und Familienhilfe',\n",
       "       'gebiet_67 Mietliegenschaften', 'gebiet_Grünanlagen',\n",
       "       'gebiet_Park', 'gebiet_Privatfläche', 'gebiet_Spielplätze',\n",
       "       'gebiet_Straßen', 'gebiet_Wald', 'gebiet_Waldspielpark',\n",
       "       'baum_statu_N', 'baum_statu_W', 'baum_statu_nan'], dtype=object)"
      ]
     },
     "execution_count": 15,
     "metadata": {},
     "output_type": "execute_result"
    }
   ],
   "source": [
    "enc.get_feature_names_out()"
   ]
  },
  {
   "cell_type": "markdown",
   "metadata": {},
   "source": [
    "## Output als Pandas Dataframe statt Numpy Arrays"
   ]
  },
  {
   "cell_type": "code",
   "execution_count": 17,
   "metadata": {},
   "outputs": [
    {
     "ename": "TypeError",
     "evalue": "set_config() got an unexpected keyword argument 'transform_output'",
     "output_type": "error",
     "traceback": [
      "\u001b[1;31m---------------------------------------------------------------------------\u001b[0m",
      "\u001b[1;31mTypeError\u001b[0m                                 Traceback (most recent call last)",
      "Cell \u001b[1;32mIn[17], line 3\u001b[0m\n\u001b[0;32m      1\u001b[0m \u001b[38;5;28;01mfrom\u001b[39;00m \u001b[38;5;21;01msklearn\u001b[39;00m \u001b[38;5;28;01mimport\u001b[39;00m set_config\n\u001b[1;32m----> 3\u001b[0m \u001b[43mset_config\u001b[49m\u001b[43m(\u001b[49m\u001b[43mtransform_output\u001b[49m\u001b[38;5;241;43m=\u001b[39;49m\u001b[38;5;124;43m\"\u001b[39;49m\u001b[38;5;124;43mpandas\u001b[39;49m\u001b[38;5;124;43m\"\u001b[39;49m\u001b[43m)\u001b[49m\n",
      "\u001b[1;31mTypeError\u001b[0m: set_config() got an unexpected keyword argument 'transform_output'"
     ]
    }
   ],
   "source": [
    "from sklearn import set_config\n",
    "\n",
    "set_config(transform_output=\"pandas\")"
   ]
  },
  {
   "cell_type": "markdown",
   "metadata": {},
   "source": [
    "## Release > 1.2"
   ]
  },
  {
   "cell_type": "code",
   "execution_count": 20,
   "metadata": {},
   "outputs": [
    {
     "name": "stdout",
     "output_type": "stream",
     "text": [
      "Collecting scikit-learn==1.3.2Note: you may need to restart the kernel to use updated packages.\n",
      "\n",
      "  Using cached scikit_learn-1.3.2-cp311-cp311-win_amd64.whl.metadata (11 kB)\n",
      "Requirement already satisfied: numpy<2.0,>=1.17.3 in c:\\dev\\python\\anaconda3\\envs\\ads-ml-full\\lib\\site-packages (from scikit-learn==1.3.2) (1.26.4)\n",
      "Requirement already satisfied: scipy>=1.5.0 in c:\\dev\\python\\anaconda3\\envs\\ads-ml-full\\lib\\site-packages (from scikit-learn==1.3.2) (1.12.0)\n",
      "Requirement already satisfied: joblib>=1.1.1 in c:\\dev\\python\\anaconda3\\envs\\ads-ml-full\\lib\\site-packages (from scikit-learn==1.3.2) (1.3.2)\n",
      "Requirement already satisfied: threadpoolctl>=2.0.0 in c:\\dev\\python\\anaconda3\\envs\\ads-ml-full\\lib\\site-packages (from scikit-learn==1.3.2) (3.3.0)\n",
      "Using cached scikit_learn-1.3.2-cp311-cp311-win_amd64.whl (9.2 MB)\n",
      "Installing collected packages: scikit-learn\n",
      "  Attempting uninstall: scikit-learn\n",
      "    Found existing installation: scikit-learn 1.1.3\n",
      "    Uninstalling scikit-learn-1.1.3:\n",
      "      Successfully uninstalled scikit-learn-1.1.3\n",
      "Successfully installed scikit-learn-1.3.2\n"
     ]
    },
    {
     "name": "stderr",
     "output_type": "stream",
     "text": [
      "  WARNING: Failed to remove contents in a temporary directory 'C:\\Dev\\Python\\Anaconda3\\envs\\ads-ml-full\\Lib\\site-packages\\~-learn'.\n",
      "  You can safely remove it manually.\n"
     ]
    }
   ],
   "source": [
    "%pip install scikit-learn==1.3.2"
   ]
  },
  {
   "cell_type": "code",
   "execution_count": 22,
   "metadata": {},
   "outputs": [
    {
     "data": {
      "text/plain": [
       "'1.3.2'"
      ]
     },
     "execution_count": 22,
     "metadata": {},
     "output_type": "execute_result"
    }
   ],
   "source": [
    "sklearn.__version__"
   ]
  },
  {
   "cell_type": "code",
   "execution_count": 23,
   "metadata": {},
   "outputs": [],
   "source": [
    "from sklearn import set_config\n",
    "\n",
    "set_config(transform_output=\"pandas\")"
   ]
  },
  {
   "cell_type": "code",
   "execution_count": 24,
   "metadata": {},
   "outputs": [
    {
     "data": {
      "text/html": [
       "<style>#sk-container-id-1 {color: black;}#sk-container-id-1 pre{padding: 0;}#sk-container-id-1 div.sk-toggleable {background-color: white;}#sk-container-id-1 label.sk-toggleable__label {cursor: pointer;display: block;width: 100%;margin-bottom: 0;padding: 0.3em;box-sizing: border-box;text-align: center;}#sk-container-id-1 label.sk-toggleable__label-arrow:before {content: \"▸\";float: left;margin-right: 0.25em;color: #696969;}#sk-container-id-1 label.sk-toggleable__label-arrow:hover:before {color: black;}#sk-container-id-1 div.sk-estimator:hover label.sk-toggleable__label-arrow:before {color: black;}#sk-container-id-1 div.sk-toggleable__content {max-height: 0;max-width: 0;overflow: hidden;text-align: left;background-color: #f0f8ff;}#sk-container-id-1 div.sk-toggleable__content pre {margin: 0.2em;color: black;border-radius: 0.25em;background-color: #f0f8ff;}#sk-container-id-1 input.sk-toggleable__control:checked~div.sk-toggleable__content {max-height: 200px;max-width: 100%;overflow: auto;}#sk-container-id-1 input.sk-toggleable__control:checked~label.sk-toggleable__label-arrow:before {content: \"▾\";}#sk-container-id-1 div.sk-estimator input.sk-toggleable__control:checked~label.sk-toggleable__label {background-color: #d4ebff;}#sk-container-id-1 div.sk-label input.sk-toggleable__control:checked~label.sk-toggleable__label {background-color: #d4ebff;}#sk-container-id-1 input.sk-hidden--visually {border: 0;clip: rect(1px 1px 1px 1px);clip: rect(1px, 1px, 1px, 1px);height: 1px;margin: -1px;overflow: hidden;padding: 0;position: absolute;width: 1px;}#sk-container-id-1 div.sk-estimator {font-family: monospace;background-color: #f0f8ff;border: 1px dotted black;border-radius: 0.25em;box-sizing: border-box;margin-bottom: 0.5em;}#sk-container-id-1 div.sk-estimator:hover {background-color: #d4ebff;}#sk-container-id-1 div.sk-parallel-item::after {content: \"\";width: 100%;border-bottom: 1px solid gray;flex-grow: 1;}#sk-container-id-1 div.sk-label:hover label.sk-toggleable__label {background-color: #d4ebff;}#sk-container-id-1 div.sk-serial::before {content: \"\";position: absolute;border-left: 1px solid gray;box-sizing: border-box;top: 0;bottom: 0;left: 50%;z-index: 0;}#sk-container-id-1 div.sk-serial {display: flex;flex-direction: column;align-items: center;background-color: white;padding-right: 0.2em;padding-left: 0.2em;position: relative;}#sk-container-id-1 div.sk-item {position: relative;z-index: 1;}#sk-container-id-1 div.sk-parallel {display: flex;align-items: stretch;justify-content: center;background-color: white;position: relative;}#sk-container-id-1 div.sk-item::before, #sk-container-id-1 div.sk-parallel-item::before {content: \"\";position: absolute;border-left: 1px solid gray;box-sizing: border-box;top: 0;bottom: 0;left: 50%;z-index: -1;}#sk-container-id-1 div.sk-parallel-item {display: flex;flex-direction: column;z-index: 1;position: relative;background-color: white;}#sk-container-id-1 div.sk-parallel-item:first-child::after {align-self: flex-end;width: 50%;}#sk-container-id-1 div.sk-parallel-item:last-child::after {align-self: flex-start;width: 50%;}#sk-container-id-1 div.sk-parallel-item:only-child::after {width: 0;}#sk-container-id-1 div.sk-dashed-wrapped {border: 1px dashed gray;margin: 0 0.4em 0.5em 0.4em;box-sizing: border-box;padding-bottom: 0.4em;background-color: white;}#sk-container-id-1 div.sk-label label {font-family: monospace;font-weight: bold;display: inline-block;line-height: 1.2em;}#sk-container-id-1 div.sk-label-container {text-align: center;}#sk-container-id-1 div.sk-container {/* jupyter's `normalize.less` sets `[hidden] { display: none; }` but bootstrap.min.css set `[hidden] { display: none !important; }` so we also need the `!important` here to be able to override the default hidden behavior on the sphinx rendered scikit-learn.org. See: https://github.com/scikit-learn/scikit-learn/issues/21755 */display: inline-block !important;position: relative;}#sk-container-id-1 div.sk-text-repr-fallback {display: none;}</style><div id=\"sk-container-id-1\" class=\"sk-top-container\"><div class=\"sk-text-repr-fallback\"><pre>OneHotEncoder(handle_unknown=&#x27;ignore&#x27;, sparse_output=False)</pre><b>In a Jupyter environment, please rerun this cell to show the HTML representation or trust the notebook. <br />On GitHub, the HTML representation is unable to render, please try loading this page with nbviewer.org.</b></div><div class=\"sk-container\" hidden><div class=\"sk-item\"><div class=\"sk-estimator sk-toggleable\"><input class=\"sk-toggleable__control sk-hidden--visually\" id=\"sk-estimator-id-1\" type=\"checkbox\" checked><label for=\"sk-estimator-id-1\" class=\"sk-toggleable__label sk-toggleable__label-arrow\">OneHotEncoder</label><div class=\"sk-toggleable__content\"><pre>OneHotEncoder(handle_unknown=&#x27;ignore&#x27;, sparse_output=False)</pre></div></div></div></div></div>"
      ],
      "text/plain": [
       "OneHotEncoder(handle_unknown='ignore', sparse_output=False)"
      ]
     },
     "execution_count": 24,
     "metadata": {},
     "output_type": "execute_result"
    }
   ],
   "source": [
    "from sklearn.preprocessing import OneHotEncoder\n",
    "\n",
    "enc = OneHotEncoder(sparse_output=False, handle_unknown=\"ignore\")\n",
    "enc.fit(data[cat_cols_subset][:100000])"
   ]
  },
  {
   "cell_type": "code",
   "execution_count": 25,
   "metadata": {},
   "outputs": [
    {
     "data": {
      "text/html": [
       "<div>\n",
       "<style scoped>\n",
       "    .dataframe tbody tr th:only-of-type {\n",
       "        vertical-align: middle;\n",
       "    }\n",
       "\n",
       "    .dataframe tbody tr th {\n",
       "        vertical-align: top;\n",
       "    }\n",
       "\n",
       "    .dataframe thead th {\n",
       "        text-align: right;\n",
       "    }\n",
       "</style>\n",
       "<table border=\"1\" class=\"dataframe\">\n",
       "  <thead>\n",
       "    <tr style=\"text-align: right;\">\n",
       "      <th></th>\n",
       "      <th>gattungart_G0001</th>\n",
       "      <th>gattungart_G0002</th>\n",
       "      <th>gattungart_G0004</th>\n",
       "      <th>gattungart_G0005</th>\n",
       "      <th>gattungart_G0006</th>\n",
       "      <th>gattungart_G0007</th>\n",
       "      <th>gattungart_G0008</th>\n",
       "      <th>gattungart_G0009</th>\n",
       "      <th>gattungart_G0012</th>\n",
       "      <th>gattungart_G0013</th>\n",
       "      <th>...</th>\n",
       "      <th>gebiet_Grünanlagen</th>\n",
       "      <th>gebiet_Park</th>\n",
       "      <th>gebiet_Privatfläche</th>\n",
       "      <th>gebiet_Spielplätze</th>\n",
       "      <th>gebiet_Straßen</th>\n",
       "      <th>gebiet_Wald</th>\n",
       "      <th>gebiet_Waldspielpark</th>\n",
       "      <th>baum_statu_N</th>\n",
       "      <th>baum_statu_W</th>\n",
       "      <th>baum_statu_nan</th>\n",
       "    </tr>\n",
       "  </thead>\n",
       "  <tbody>\n",
       "    <tr>\n",
       "      <th>100001</th>\n",
       "      <td>0.0</td>\n",
       "      <td>0.0</td>\n",
       "      <td>0.0</td>\n",
       "      <td>0.0</td>\n",
       "      <td>0.0</td>\n",
       "      <td>0.0</td>\n",
       "      <td>0.0</td>\n",
       "      <td>0.0</td>\n",
       "      <td>0.0</td>\n",
       "      <td>0.0</td>\n",
       "      <td>...</td>\n",
       "      <td>1.0</td>\n",
       "      <td>0.0</td>\n",
       "      <td>0.0</td>\n",
       "      <td>0.0</td>\n",
       "      <td>0.0</td>\n",
       "      <td>0.0</td>\n",
       "      <td>0.0</td>\n",
       "      <td>0.0</td>\n",
       "      <td>0.0</td>\n",
       "      <td>1.0</td>\n",
       "    </tr>\n",
       "    <tr>\n",
       "      <th>100002</th>\n",
       "      <td>0.0</td>\n",
       "      <td>0.0</td>\n",
       "      <td>0.0</td>\n",
       "      <td>0.0</td>\n",
       "      <td>0.0</td>\n",
       "      <td>0.0</td>\n",
       "      <td>0.0</td>\n",
       "      <td>0.0</td>\n",
       "      <td>0.0</td>\n",
       "      <td>0.0</td>\n",
       "      <td>...</td>\n",
       "      <td>1.0</td>\n",
       "      <td>0.0</td>\n",
       "      <td>0.0</td>\n",
       "      <td>0.0</td>\n",
       "      <td>0.0</td>\n",
       "      <td>0.0</td>\n",
       "      <td>0.0</td>\n",
       "      <td>0.0</td>\n",
       "      <td>0.0</td>\n",
       "      <td>1.0</td>\n",
       "    </tr>\n",
       "    <tr>\n",
       "      <th>100003</th>\n",
       "      <td>0.0</td>\n",
       "      <td>0.0</td>\n",
       "      <td>0.0</td>\n",
       "      <td>0.0</td>\n",
       "      <td>0.0</td>\n",
       "      <td>0.0</td>\n",
       "      <td>0.0</td>\n",
       "      <td>0.0</td>\n",
       "      <td>0.0</td>\n",
       "      <td>0.0</td>\n",
       "      <td>...</td>\n",
       "      <td>1.0</td>\n",
       "      <td>0.0</td>\n",
       "      <td>0.0</td>\n",
       "      <td>0.0</td>\n",
       "      <td>0.0</td>\n",
       "      <td>0.0</td>\n",
       "      <td>0.0</td>\n",
       "      <td>0.0</td>\n",
       "      <td>0.0</td>\n",
       "      <td>1.0</td>\n",
       "    </tr>\n",
       "    <tr>\n",
       "      <th>100004</th>\n",
       "      <td>0.0</td>\n",
       "      <td>0.0</td>\n",
       "      <td>0.0</td>\n",
       "      <td>0.0</td>\n",
       "      <td>0.0</td>\n",
       "      <td>0.0</td>\n",
       "      <td>0.0</td>\n",
       "      <td>0.0</td>\n",
       "      <td>0.0</td>\n",
       "      <td>0.0</td>\n",
       "      <td>...</td>\n",
       "      <td>1.0</td>\n",
       "      <td>0.0</td>\n",
       "      <td>0.0</td>\n",
       "      <td>0.0</td>\n",
       "      <td>0.0</td>\n",
       "      <td>0.0</td>\n",
       "      <td>0.0</td>\n",
       "      <td>0.0</td>\n",
       "      <td>0.0</td>\n",
       "      <td>1.0</td>\n",
       "    </tr>\n",
       "    <tr>\n",
       "      <th>100005</th>\n",
       "      <td>0.0</td>\n",
       "      <td>0.0</td>\n",
       "      <td>0.0</td>\n",
       "      <td>0.0</td>\n",
       "      <td>0.0</td>\n",
       "      <td>0.0</td>\n",
       "      <td>0.0</td>\n",
       "      <td>0.0</td>\n",
       "      <td>0.0</td>\n",
       "      <td>0.0</td>\n",
       "      <td>...</td>\n",
       "      <td>1.0</td>\n",
       "      <td>0.0</td>\n",
       "      <td>0.0</td>\n",
       "      <td>0.0</td>\n",
       "      <td>0.0</td>\n",
       "      <td>0.0</td>\n",
       "      <td>0.0</td>\n",
       "      <td>0.0</td>\n",
       "      <td>0.0</td>\n",
       "      <td>1.0</td>\n",
       "    </tr>\n",
       "    <tr>\n",
       "      <th>...</th>\n",
       "      <td>...</td>\n",
       "      <td>...</td>\n",
       "      <td>...</td>\n",
       "      <td>...</td>\n",
       "      <td>...</td>\n",
       "      <td>...</td>\n",
       "      <td>...</td>\n",
       "      <td>...</td>\n",
       "      <td>...</td>\n",
       "      <td>...</td>\n",
       "      <td>...</td>\n",
       "      <td>...</td>\n",
       "      <td>...</td>\n",
       "      <td>...</td>\n",
       "      <td>...</td>\n",
       "      <td>...</td>\n",
       "      <td>...</td>\n",
       "      <td>...</td>\n",
       "      <td>...</td>\n",
       "      <td>...</td>\n",
       "      <td>...</td>\n",
       "    </tr>\n",
       "    <tr>\n",
       "      <th>159182</th>\n",
       "      <td>0.0</td>\n",
       "      <td>0.0</td>\n",
       "      <td>0.0</td>\n",
       "      <td>0.0</td>\n",
       "      <td>0.0</td>\n",
       "      <td>0.0</td>\n",
       "      <td>0.0</td>\n",
       "      <td>0.0</td>\n",
       "      <td>0.0</td>\n",
       "      <td>0.0</td>\n",
       "      <td>...</td>\n",
       "      <td>0.0</td>\n",
       "      <td>0.0</td>\n",
       "      <td>0.0</td>\n",
       "      <td>0.0</td>\n",
       "      <td>1.0</td>\n",
       "      <td>0.0</td>\n",
       "      <td>0.0</td>\n",
       "      <td>0.0</td>\n",
       "      <td>0.0</td>\n",
       "      <td>1.0</td>\n",
       "    </tr>\n",
       "    <tr>\n",
       "      <th>159183</th>\n",
       "      <td>0.0</td>\n",
       "      <td>0.0</td>\n",
       "      <td>0.0</td>\n",
       "      <td>0.0</td>\n",
       "      <td>0.0</td>\n",
       "      <td>0.0</td>\n",
       "      <td>0.0</td>\n",
       "      <td>0.0</td>\n",
       "      <td>0.0</td>\n",
       "      <td>0.0</td>\n",
       "      <td>...</td>\n",
       "      <td>0.0</td>\n",
       "      <td>0.0</td>\n",
       "      <td>0.0</td>\n",
       "      <td>0.0</td>\n",
       "      <td>1.0</td>\n",
       "      <td>0.0</td>\n",
       "      <td>0.0</td>\n",
       "      <td>0.0</td>\n",
       "      <td>0.0</td>\n",
       "      <td>1.0</td>\n",
       "    </tr>\n",
       "    <tr>\n",
       "      <th>159184</th>\n",
       "      <td>0.0</td>\n",
       "      <td>0.0</td>\n",
       "      <td>0.0</td>\n",
       "      <td>0.0</td>\n",
       "      <td>0.0</td>\n",
       "      <td>0.0</td>\n",
       "      <td>0.0</td>\n",
       "      <td>0.0</td>\n",
       "      <td>0.0</td>\n",
       "      <td>0.0</td>\n",
       "      <td>...</td>\n",
       "      <td>0.0</td>\n",
       "      <td>0.0</td>\n",
       "      <td>0.0</td>\n",
       "      <td>0.0</td>\n",
       "      <td>1.0</td>\n",
       "      <td>0.0</td>\n",
       "      <td>0.0</td>\n",
       "      <td>0.0</td>\n",
       "      <td>0.0</td>\n",
       "      <td>1.0</td>\n",
       "    </tr>\n",
       "    <tr>\n",
       "      <th>159185</th>\n",
       "      <td>0.0</td>\n",
       "      <td>0.0</td>\n",
       "      <td>0.0</td>\n",
       "      <td>0.0</td>\n",
       "      <td>0.0</td>\n",
       "      <td>0.0</td>\n",
       "      <td>0.0</td>\n",
       "      <td>0.0</td>\n",
       "      <td>0.0</td>\n",
       "      <td>0.0</td>\n",
       "      <td>...</td>\n",
       "      <td>1.0</td>\n",
       "      <td>0.0</td>\n",
       "      <td>0.0</td>\n",
       "      <td>0.0</td>\n",
       "      <td>0.0</td>\n",
       "      <td>0.0</td>\n",
       "      <td>0.0</td>\n",
       "      <td>0.0</td>\n",
       "      <td>0.0</td>\n",
       "      <td>1.0</td>\n",
       "    </tr>\n",
       "    <tr>\n",
       "      <th>159186</th>\n",
       "      <td>0.0</td>\n",
       "      <td>0.0</td>\n",
       "      <td>0.0</td>\n",
       "      <td>0.0</td>\n",
       "      <td>0.0</td>\n",
       "      <td>0.0</td>\n",
       "      <td>0.0</td>\n",
       "      <td>0.0</td>\n",
       "      <td>0.0</td>\n",
       "      <td>0.0</td>\n",
       "      <td>...</td>\n",
       "      <td>1.0</td>\n",
       "      <td>0.0</td>\n",
       "      <td>0.0</td>\n",
       "      <td>0.0</td>\n",
       "      <td>0.0</td>\n",
       "      <td>0.0</td>\n",
       "      <td>0.0</td>\n",
       "      <td>0.0</td>\n",
       "      <td>0.0</td>\n",
       "      <td>1.0</td>\n",
       "    </tr>\n",
       "  </tbody>\n",
       "</table>\n",
       "<p>59185 rows × 526 columns</p>\n",
       "</div>"
      ],
      "text/plain": [
       "        gattungart_G0001  gattungart_G0002  gattungart_G0004  \\\n",
       "100001               0.0               0.0               0.0   \n",
       "100002               0.0               0.0               0.0   \n",
       "100003               0.0               0.0               0.0   \n",
       "100004               0.0               0.0               0.0   \n",
       "100005               0.0               0.0               0.0   \n",
       "...                  ...               ...               ...   \n",
       "159182               0.0               0.0               0.0   \n",
       "159183               0.0               0.0               0.0   \n",
       "159184               0.0               0.0               0.0   \n",
       "159185               0.0               0.0               0.0   \n",
       "159186               0.0               0.0               0.0   \n",
       "\n",
       "        gattungart_G0005  gattungart_G0006  gattungart_G0007  \\\n",
       "100001               0.0               0.0               0.0   \n",
       "100002               0.0               0.0               0.0   \n",
       "100003               0.0               0.0               0.0   \n",
       "100004               0.0               0.0               0.0   \n",
       "100005               0.0               0.0               0.0   \n",
       "...                  ...               ...               ...   \n",
       "159182               0.0               0.0               0.0   \n",
       "159183               0.0               0.0               0.0   \n",
       "159184               0.0               0.0               0.0   \n",
       "159185               0.0               0.0               0.0   \n",
       "159186               0.0               0.0               0.0   \n",
       "\n",
       "        gattungart_G0008  gattungart_G0009  gattungart_G0012  \\\n",
       "100001               0.0               0.0               0.0   \n",
       "100002               0.0               0.0               0.0   \n",
       "100003               0.0               0.0               0.0   \n",
       "100004               0.0               0.0               0.0   \n",
       "100005               0.0               0.0               0.0   \n",
       "...                  ...               ...               ...   \n",
       "159182               0.0               0.0               0.0   \n",
       "159183               0.0               0.0               0.0   \n",
       "159184               0.0               0.0               0.0   \n",
       "159185               0.0               0.0               0.0   \n",
       "159186               0.0               0.0               0.0   \n",
       "\n",
       "        gattungart_G0013  ...  gebiet_Grünanlagen  gebiet_Park  \\\n",
       "100001               0.0  ...                 1.0          0.0   \n",
       "100002               0.0  ...                 1.0          0.0   \n",
       "100003               0.0  ...                 1.0          0.0   \n",
       "100004               0.0  ...                 1.0          0.0   \n",
       "100005               0.0  ...                 1.0          0.0   \n",
       "...                  ...  ...                 ...          ...   \n",
       "159182               0.0  ...                 0.0          0.0   \n",
       "159183               0.0  ...                 0.0          0.0   \n",
       "159184               0.0  ...                 0.0          0.0   \n",
       "159185               0.0  ...                 1.0          0.0   \n",
       "159186               0.0  ...                 1.0          0.0   \n",
       "\n",
       "        gebiet_Privatfläche  gebiet_Spielplätze  gebiet_Straßen  gebiet_Wald  \\\n",
       "100001                  0.0                 0.0             0.0          0.0   \n",
       "100002                  0.0                 0.0             0.0          0.0   \n",
       "100003                  0.0                 0.0             0.0          0.0   \n",
       "100004                  0.0                 0.0             0.0          0.0   \n",
       "100005                  0.0                 0.0             0.0          0.0   \n",
       "...                     ...                 ...             ...          ...   \n",
       "159182                  0.0                 0.0             1.0          0.0   \n",
       "159183                  0.0                 0.0             1.0          0.0   \n",
       "159184                  0.0                 0.0             1.0          0.0   \n",
       "159185                  0.0                 0.0             0.0          0.0   \n",
       "159186                  0.0                 0.0             0.0          0.0   \n",
       "\n",
       "        gebiet_Waldspielpark  baum_statu_N  baum_statu_W  baum_statu_nan  \n",
       "100001                   0.0           0.0           0.0             1.0  \n",
       "100002                   0.0           0.0           0.0             1.0  \n",
       "100003                   0.0           0.0           0.0             1.0  \n",
       "100004                   0.0           0.0           0.0             1.0  \n",
       "100005                   0.0           0.0           0.0             1.0  \n",
       "...                      ...           ...           ...             ...  \n",
       "159182                   0.0           0.0           0.0             1.0  \n",
       "159183                   0.0           0.0           0.0             1.0  \n",
       "159184                   0.0           0.0           0.0             1.0  \n",
       "159185                   0.0           0.0           0.0             1.0  \n",
       "159186                   0.0           0.0           0.0             1.0  \n",
       "\n",
       "[59185 rows x 526 columns]"
      ]
     },
     "execution_count": 25,
     "metadata": {},
     "output_type": "execute_result"
    }
   ],
   "source": [
    "enc.transform(data[cat_cols_subset][100000:])"
   ]
  },
  {
   "cell_type": "markdown",
   "metadata": {},
   "source": [
    "## Downgrades können sich beim Installieren weiterer Pakete einschleichen"
   ]
  },
  {
   "cell_type": "code",
   "execution_count": 26,
   "metadata": {},
   "outputs": [
    {
     "data": {
      "text/plain": [
       "'2.1.4'"
      ]
     },
     "execution_count": 26,
     "metadata": {},
     "output_type": "execute_result"
    }
   ],
   "source": [
    "import pandas as pd\n",
    "\n",
    "pd.__version__"
   ]
  },
  {
   "cell_type": "code",
   "execution_count": 27,
   "metadata": {},
   "outputs": [
    {
     "name": "stdout",
     "output_type": "stream",
     "text": [
      "^C\n",
      "Note: you may need to restart the kernel to use updated packages.\n"
     ]
    }
   ],
   "source": [
    "%pip install ydata-profiling==4.6.1"
   ]
  },
  {
   "cell_type": "code",
   "execution_count": 29,
   "metadata": {},
   "outputs": [
    {
     "data": {
      "text/plain": [
       "'2.1.4'"
      ]
     },
     "execution_count": 29,
     "metadata": {},
     "output_type": "execute_result"
    }
   ],
   "source": [
    "pd.__version__"
   ]
  },
  {
   "cell_type": "markdown",
   "metadata": {},
   "source": [
    "Jetzt solltet ihr die Requirements für diese Environment wie in `requirements-py3.11-ads-ml-light.txt` neu installieren!"
   ]
  },
  {
   "cell_type": "markdown",
   "metadata": {},
   "source": []
  }
 ],
 "metadata": {
  "kernelspec": {
   "display_name": "Python 3.9.12 ('ads3-02-dw')",
   "language": "python",
   "name": "python3"
  },
  "language_info": {
   "codemirror_mode": {
    "name": "ipython",
    "version": 3
   },
   "file_extension": ".py",
   "mimetype": "text/x-python",
   "name": "python",
   "nbconvert_exporter": "python",
   "pygments_lexer": "ipython3",
   "version": "3.11.8"
  },
  "orig_nbformat": 4,
  "vscode": {
   "interpreter": {
    "hash": "1573d45df3c8ffb0496e8c1c5373ffdbcd80cbf5fb67b63920ae9a95902d7a2a"
   }
  }
 },
 "nbformat": 4,
 "nbformat_minor": 2
}
